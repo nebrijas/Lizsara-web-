{
 "cells": [
  {
   "cell_type": "markdown",
   "id": "88e25148",
   "metadata": {},
   "source": [
    "# AD3"
   ]
  },
  {
   "cell_type": "markdown",
   "id": "d56444eb",
   "metadata": {},
   "source": [
    "Esta es la activida diriga 3 que consiste en hacer un ejercicio de programación literaria aprovechando el código que hemos usados en programación con Python donde realizamos *web scraping*. \n",
    "\n",
    "A continuación pongo el número fuente."
   ]
  },
  {
   "cell_type": "markdown",
   "id": "8a0b9834",
   "metadata": {},
   "source": [
    "## Instalar librerías"
   ]
  },
  {
   "cell_type": "code",
   "execution_count": 1,
   "id": "d77b4de3",
   "metadata": {},
   "outputs": [
    {
     "name": "stdout",
     "output_type": "stream",
     "text": [
      "Requirement already satisfied: pandas in c:\\users\\lizza\\anaconda3\\lib\\site-packages (1.4.2)\n",
      "Requirement already satisfied: termcolor in c:\\users\\lizza\\anaconda3\\lib\\site-packages (1.1.0)\n",
      "Requirement already satisfied: pd in c:\\users\\lizza\\anaconda3\\lib\\site-packages (0.0.4)\n",
      "Requirement already satisfied: requests in c:\\users\\lizza\\anaconda3\\lib\\site-packages (2.27.1)\n",
      "Requirement already satisfied: python-dateutil>=2.8.1 in c:\\users\\lizza\\anaconda3\\lib\\site-packages (from pandas) (2.8.2)\n",
      "Requirement already satisfied: pytz>=2020.1 in c:\\users\\lizza\\anaconda3\\lib\\site-packages (from pandas) (2021.3)\n",
      "Requirement already satisfied: numpy>=1.18.5 in c:\\users\\lizza\\anaconda3\\lib\\site-packages (from pandas) (1.21.5)\n",
      "Requirement already satisfied: certifi>=2017.4.17 in c:\\users\\lizza\\anaconda3\\lib\\site-packages (from requests) (2021.10.8)\n",
      "Requirement already satisfied: urllib3<1.27,>=1.21.1 in c:\\users\\lizza\\anaconda3\\lib\\site-packages (from requests) (1.26.9)\n",
      "Requirement already satisfied: charset-normalizer~=2.0.0 in c:\\users\\lizza\\anaconda3\\lib\\site-packages (from requests) (2.0.4)\n",
      "Requirement already satisfied: idna<4,>=2.5 in c:\\users\\lizza\\anaconda3\\lib\\site-packages (from requests) (3.3)\n",
      "Requirement already satisfied: six>=1.5 in c:\\users\\lizza\\anaconda3\\lib\\site-packages (from python-dateutil>=2.8.1->pandas) (1.16.0)\n",
      "Note: you may need to restart the kernel to use updated packages.\n"
     ]
    }
   ],
   "source": [
    "pip install  pandas termcolor pd requests "
   ]
  },
  {
   "cell_type": "markdown",
   "id": "4aa3ef29",
   "metadata": {},
   "source": [
    "## Importar librerías"
   ]
  },
  {
   "cell_type": "markdown",
   "id": "48f52bf2",
   "metadata": {},
   "source": [
    "\n",
    "Aquí voy a importar las siguientes librerías:\n",
    "- [Requests](https://requests.readthedocs.io/en/latest/): Permite enviar solicitudes HTTP/1.1 con mucha facilidad y sin la necesidad de agregar manualmente cadenas de consulta a sus URL o de codificar sus datos POST. \n",
    "- [Time](https://rico-schmidt.name/pymotw-3/time/index.html): Brinda acceso a varios tipos diferentes de relojes, cada uno útil para diferentes propósitos. \n",
    "- [csv](https://docs.python.org/es/3/library/csv.html): Formato más común de importación y exportación de hojas de cálculo y bases de datos.\n",
    "- [re](https://docs.python.org/es/3/library/re.html):  Proporciona operaciones de coincidencia de expresiones regulares similares a las encontradas en Perl.\n",
    "- [bs4](https://help.clouding.io/hc/es/articles/360010618600-Introducci%C3%B3n-a-BeautifulSoup-4-en-Python-2): Útil para extraer contenido de ficheros HTML y XML.\n",
    "- [os](https://entrenamiento-python-basico.readthedocs.io/es/latest/leccion7/archivos.html):  Permite realizar operaciones dependiente del Sistema Operativo como crear una carpeta, listar contenidos de una carpeta, conocer acerca de un proceso, finalizar un proceso, etc.\n",
    "- [Pandas](https://aprendeconalf.es/docencia/python/manual/pandas/): Librería de Python especializada en el manejo y análisis de estructuras de datos.\n",
    "- [Termcolor](http://webpynux.blogspot.com/2015/01/hola-mundo-en-python-con-termcolor.html): Permite hacer uso de los colores."
   ]
  },
  {
   "cell_type": "markdown",
   "id": "566acb06",
   "metadata": {},
   "source": [
    "Una vez detallada la función de las librerías, avanzamos a importarlas para la debida lectura de los comandos."
   ]
  },
  {
   "cell_type": "code",
   "execution_count": 1,
   "id": "821147c8",
   "metadata": {},
   "outputs": [],
   "source": [
    "import requests\n",
    "import time\n",
    "import csv\n",
    "import re\n",
    "from bs4 import BeautifulSoup\n",
    "import os\n",
    "import pandas as pd\n",
    "from termcolor import colored"
   ]
  },
  {
   "cell_type": "markdown",
   "id": "e5677d2a",
   "metadata": {},
   "source": [
    "## Objetos/variables"
   ]
  },
  {
   "cell_type": "markdown",
   "id": "f7a5114c",
   "metadata": {},
   "source": [
    "Creación de los mismos:"
   ]
  },
  {
   "cell_type": "code",
   "execution_count": 3,
   "id": "9e72c0ea",
   "metadata": {},
   "outputs": [],
   "source": [
    "resultados = []"
   ]
  },
  {
   "cell_type": "markdown",
   "id": "29da30ca",
   "metadata": {},
   "source": [
    "**Web Scrpping para división de los códigos**"
   ]
  },
  {
   "cell_type": "markdown",
   "id": "f1254c94",
   "metadata": {},
   "source": [
    "Procederemos a la impresión de los códigos, para trabajar con secciones del diario El País."
   ]
  },
  {
   "cell_type": "markdown",
   "id": "29cb372e",
   "metadata": {},
   "source": [
    "### Titulares El País "
   ]
  },
  {
   "cell_type": "markdown",
   "id": "c480ce44",
   "metadata": {},
   "source": [
    "Para cumplir el objetivo, utilizaremos la variable _req_ "
   ]
  },
  {
   "cell_type": "code",
   "execution_count": 4,
   "id": "0c31c77c",
   "metadata": {},
   "outputs": [],
   "source": [
    "req = requests.get(\"https://resultados.elpais.com\")"
   ]
  },
  {
   "cell_type": "markdown",
   "id": "283bd389",
   "metadata": {},
   "source": [
    "Si la petición antes realizada, nos devuelve un código de estatus diferente a **200**, significa que la consulta fue errada y se realiza una excepción. "
   ]
  },
  {
   "cell_type": "code",
   "execution_count": 3,
   "id": "7206f3a9",
   "metadata": {},
   "outputs": [
    {
     "ename": "NameError",
     "evalue": "name 'req' is not defined",
     "output_type": "error",
     "traceback": [
      "\u001b[1;31m---------------------------------------------------------------------------\u001b[0m",
      "\u001b[1;31mNameError\u001b[0m                                 Traceback (most recent call last)",
      "Input \u001b[1;32mIn [3]\u001b[0m, in \u001b[0;36m<cell line: 2>\u001b[1;34m()\u001b[0m\n\u001b[0;32m      1\u001b[0m \u001b[38;5;66;03m# Si el estatus code no es 200 no se puede leer la página\u001b[39;00m\n\u001b[1;32m----> 2\u001b[0m \u001b[38;5;28;01mif\u001b[39;00m  (\u001b[43mreq\u001b[49m\u001b[38;5;241m.\u001b[39mstatus_code \u001b[38;5;241m!=\u001b[39m \u001b[38;5;241m200\u001b[39m):\n\u001b[0;32m      3\u001b[0m  \u001b[38;5;28;01mraise\u001b[39;00m \u001b[38;5;167;01mException\u001b[39;00m(\u001b[38;5;124m\"\u001b[39m\u001b[38;5;124mNo se puede hacer Web Scraping en\u001b[39m\u001b[38;5;124m\"\u001b[39m\u001b[38;5;241m+\u001b[39m URL)\n\u001b[0;32m      4\u001b[0m soup \u001b[38;5;241m=\u001b[39m BeautifulSoup(req\u001b[38;5;241m.\u001b[39mtext, \u001b[38;5;124m'\u001b[39m\u001b[38;5;124mhtml.parser\u001b[39m\u001b[38;5;124m'\u001b[39m)\n",
      "\u001b[1;31mNameError\u001b[0m: name 'req' is not defined"
     ]
    }
   ],
   "source": [
    "# Si el estatus code no es 200 no se puede leer la página\n",
    "if (req.status_code != 200):\n",
    " raise Exception(\"No se puede hacer Web Scraping en\"+ URL)\n",
    "soup = BeautifulSoup(req.text, 'html.parser')"
   ]
  },
  {
   "cell_type": "markdown",
   "id": "27cc60c8",
   "metadata": {},
   "source": [
    "Seguidamente utilizaremos la variable _tags_, que junto con el método de findall que recibe el parámetro h2, identifica la operación de buscar todos los elementos dentro del html anteriormente parceados."
   ]
  },
  {
   "cell_type": "code",
   "execution_count": 4,
   "id": "f9c6bb46",
   "metadata": {},
   "outputs": [
    {
     "ename": "NameError",
     "evalue": "name 'soup' is not defined",
     "output_type": "error",
     "traceback": [
      "\u001b[1;31m---------------------------------------------------------------------------\u001b[0m",
      "\u001b[1;31mNameError\u001b[0m                                 Traceback (most recent call last)",
      "Input \u001b[1;32mIn [4]\u001b[0m, in \u001b[0;36m<cell line: 1>\u001b[1;34m()\u001b[0m\n\u001b[1;32m----> 1\u001b[0m tags \u001b[38;5;241m=\u001b[39m \u001b[43msoup\u001b[49m\u001b[38;5;241m.\u001b[39mfindAll(\u001b[38;5;124m\"\u001b[39m\u001b[38;5;124mh2\u001b[39m\u001b[38;5;124m\"\u001b[39m)\n\u001b[0;32m      3\u001b[0m \u001b[38;5;28;01mfor\u001b[39;00m h2 \u001b[38;5;129;01min\u001b[39;00m tags:\n\u001b[0;32m      4\u001b[0m     \u001b[38;5;28mprint\u001b[39m(h2\u001b[38;5;241m.\u001b[39mtext)\n",
      "\u001b[1;31mNameError\u001b[0m: name 'soup' is not defined"
     ]
    }
   ],
   "source": [
    "tags = soup.findAll(\"h2\")\n",
    "\n",
    "for h2 in tags:\n",
    "    print(h2.text)\n",
    "    resultados.append(h2.text)"
   ]
  },
  {
   "cell_type": "markdown",
   "id": "61556df1",
   "metadata": {},
   "source": [
    "### Titulares Internacionales"
   ]
  },
  {
   "cell_type": "markdown",
   "id": "a4b949f5",
   "metadata": {},
   "source": [
    "Utilizaremos la variable _req_ para realizar la petición"
   ]
  },
  {
   "cell_type": "code",
   "execution_count": 6,
   "id": "cccf6619",
   "metadata": {},
   "outputs": [],
   "source": [
    "req2 = requests.get(\"https://elpais.com/internacional\")"
   ]
  },
  {
   "cell_type": "markdown",
   "id": "991c1ba9",
   "metadata": {},
   "source": [
    "Si esa petición nos devuelve un código de estatus diferente a 200, significa que la consulta realizado tiene un error. "
   ]
  },
  {
   "cell_type": "code",
   "execution_count": 7,
   "id": "3bd3e5f5",
   "metadata": {},
   "outputs": [],
   "source": [
    "# Si el estatus code no es 200 no se puede leer la página\n",
    "if (req.status_code != 200):\n",
    " raise Exception(\"No se puede hacer Web Scraping en\"+ URL)\n",
    "soup2 = BeautifulSoup(req2.text, 'html.parser')"
   ]
  },
  {
   "cell_type": "code",
   "execution_count": 8,
   "id": "15e0edfe",
   "metadata": {},
   "outputs": [
    {
     "name": "stdout",
     "output_type": "stream",
     "text": [
      "El exministro de Economía Rishi Sunak lanza su candidatura a liderar el Partido Conservador británico\n",
      "La policía japonesa admite fallos en la seguridad de Shinzo Abe\n",
      "Las protestas masivas por la crisis económica fuerzan la dimisión del presidente y del primer ministro en Sri Lanka\n",
      "Un magnicidio inusual que hace sentir a los japoneses vulnerables \n",
      "Populistas occidentales por el desagüe de la historia\n",
      "Boris Johnson dimite\n",
      "La ultraderecha mundial y el control de los cuerpos\n",
      "Las otras fronteras de Rusia: entre el miedo (al imperio) y los intereses nacionales\n",
      "Duchas cortas y límite a las calefacciones: Alemania se prepara para posibles cortes de energía este invierno\n",
      "La muerte a tiros de Shinzo Abe conmociona a un país poco acostumbrado al uso de armamento\n",
      "Shinzo Abe, un primer ministro carismático que marcó el rumbo de la política en Japón\n",
      "Un magnicidio inusual que hace sentir a los japoneses vulnerables \n",
      "Shinzo Abe no es el primero: historia reciente de los magnicidios\n",
      "El detenido por la muerte de Abe: desempleado y antiguo miembro de las fuerzas armadas\n",
      "Ucrania rinde homenaje a Boris Johnson\n",
      "La revolución conservadora del Supremo de Estados Unidos está lista para su segundo asalto\n",
      "Las voces de los niños de la guerra: “Los colegios se volvieron salas fúnebres”\n",
      "“Hay una parte de la verdad de Colombia que solo se puede conocer fuera de Colombia”\n",
      "Detenido en Brasil el presunto autor intelectual del asesinato de Dom Philips y Bruno Pereira en la Amazonia\n",
      "Kirchner acusa al ministro de Economía saliente de “desestabilización institucional”\n",
      "Detenido en Brasil el presunto autor intelectual del asesinato de Dom Philips y Bruno Pereira en la Amazonia\n",
      "Nadie frena la novena reelección de un eterno sindicalista argentino\n",
      "“Hay una parte de la verdad de Colombia que solo se puede conocer fuera de Colombia”\n",
      "Trump y Biden miden ya sus fuerzas para las elecciones de 2024\n"
     ]
    }
   ],
   "source": [
    "tags = soup2.findAll(\"h2\")\n",
    "\n",
    "for h2 in tags:\n",
    "    print(h2.text)\n",
    "    resultados.append(h2.text)"
   ]
  },
  {
   "cell_type": "markdown",
   "id": "df41128b",
   "metadata": {},
   "source": [
    "### Artículos de opinión"
   ]
  },
  {
   "cell_type": "markdown",
   "id": "106a62cb",
   "metadata": {},
   "source": [
    "Utilizaremos la variable _req_ para realizar la petición en la página web del diario El País."
   ]
  },
  {
   "cell_type": "code",
   "execution_count": 10,
   "id": "5f4a6a61",
   "metadata": {},
   "outputs": [],
   "source": [
    "req3 = requests.get(\"https://elpais.com/opinion\")"
   ]
  },
  {
   "cell_type": "markdown",
   "id": "7eb2d3a3",
   "metadata": {},
   "source": [
    "Si esa petición nos devuelve un código de estatus diferente a 200, significa que la consulta realizado tiene un error."
   ]
  },
  {
   "cell_type": "code",
   "execution_count": 11,
   "id": "81ff138f",
   "metadata": {},
   "outputs": [],
   "source": [
    "# Si el estatus code no es 200 no se puede leer la página\n",
    "if (req.status_code != 200):\n",
    " raise Exception(\"No se puede hacer Web Scraping en\"+ URL)\n",
    "soup3 = BeautifulSoup(req3.text, 'html.parser')"
   ]
  },
  {
   "cell_type": "markdown",
   "id": "0afc6774",
   "metadata": {},
   "source": [
    "La variable tags se le asigna el método de findall que recibe el parámetro h2 que identifica la operación de buscar todos los elementos dentro del html anteriormente parceados y los recorremos con el siguiente ciclo de repetición for, se imprime y también se almacena en la variable resultados."
   ]
  },
  {
   "cell_type": "code",
   "execution_count": 12,
   "id": "3da9d2a0",
   "metadata": {},
   "outputs": [
    {
     "name": "stdout",
     "output_type": "stream",
     "text": [
      "Orgullo y resiliencia\n",
      "Guerra sucia contra Podemos\n",
      "Financiación autonómica: el avestruz y los populismos\n",
      "En el camino a Santiago\n",
      "‘Mi casa, mi árbol’\n",
      "Los escritores, la Europa de los derechos y el mercado único digital\n",
      "Operación salida… de los cuerpos amantes y gozosos\n",
      "Putin intentará estrangular a la UE\n",
      "De sumar, de restar y de Yolanda Díaz\n",
      "La vida sigue después del Bataclan\n",
      "Mi bebé ya entiende de política\n",
      "Un historiador\n",
      "El legado de Boris Johnson\n",
      "El Roto\n",
      "Peridis\n",
      "Flavita Banana\n",
      "Riki Blanco\n",
      "Sciammarella\n",
      "Planeta de Plástico, por Malagón\n",
      "Envía tu carta\n",
      "Médicos en España\n",
      "Lo raro es vivir\n",
      "Defender lo público\n",
      "En la calle circulan rumores\n",
      "Opinar sin insultar\n",
      "Contra el conflicto de intereses, transparencia\n",
      "El defensor del lector contesta\n"
     ]
    }
   ],
   "source": [
    "tags = soup3.findAll(\"h2\")\n",
    "\n",
    "for h2 in tags:\n",
    "    print(h2.text)\n",
    "    resultados.append(h2.text)"
   ]
  },
  {
   "cell_type": "markdown",
   "id": "118a76ce",
   "metadata": {},
   "source": [
    "### Impresión diario El País"
   ]
  },
  {
   "cell_type": "markdown",
   "id": "d9b1fde1",
   "metadata": {},
   "source": [
    "Utilizaremos la variable req para realizar la petición en la página web del diario El País."
   ]
  },
  {
   "cell_type": "code",
   "execution_count": 13,
   "id": "f2ed2795",
   "metadata": {},
   "outputs": [],
   "source": [
    "req4 = requests.get(\"https://elpais.com/espana/\")"
   ]
  },
  {
   "cell_type": "markdown",
   "id": "ca334cd8",
   "metadata": {},
   "source": [
    "Si esa petición nos devuelve un código de estatus diferente a 200, significa que la consulta realizado tiene un error."
   ]
  },
  {
   "cell_type": "code",
   "execution_count": 14,
   "id": "8fe8561f",
   "metadata": {},
   "outputs": [],
   "source": [
    "# Si el estatus code no es 200 no se puede leer la página\n",
    "if (req.status_code != 200):\n",
    " raise Exception(\"No se puede hacer Web Scraping en\"+ URL)\n",
    "soup4 = BeautifulSoup(req4.text, 'html.parser')"
   ]
  },
  {
   "cell_type": "markdown",
   "id": "fb5cabb6",
   "metadata": {},
   "source": [
    "La variable tags se le asigna el método de findall que recibe el parámetro h2 que identifica la operación de buscar todos los elementos dentro del html anteriormente parceados y los recorremos con el siguiente ciclo de repetición for, se imprime y también se almacena en la variable resultados."
   ]
  },
  {
   "cell_type": "code",
   "execution_count": 16,
   "id": "514b1969",
   "metadata": {},
   "outputs": [
    {
     "name": "stdout",
     "output_type": "stream",
     "text": [
      "Yolanda Díaz presenta Sumar como movimiento ciudadano que busca “un nuevo contrato social”\n",
      "Una jubilada, una sindicalista, un trabajador joven y otra de mayor edad: razones para Sumar\n",
      "Feijóo, en el homenaje a Miguel Ángel Blanco: “Prometo derogar la ley de memoria democrática”\n",
      "Ante la crisis, ¿gestionas o lideras?\n",
      "El almirante Cervera y el honor de España\n",
      "El Gran Retroceso\n",
      "Santa Bárbara y la cultura de la defensa\n",
      "¿Es posible disentir de esta retórica belicista?\n",
      "Irene Montero muestra el apoyo de Podemos a Sumar: “Yolanda es nuestra candidata” \n",
      "La entrada de agentes marroquíes en Melilla despierta dudas legales entre los expertos\n",
      "El Gobierno y la Generalitat  se comprometen a retomar el diálogo y “superar la judicialización”\n",
      "El juez cita como imputados a tres exjefes de ETA por el asesinato de Miguel Ángel Blanco\n",
      "Interior estudia incentivos a los guardias civiles de zonas rurales para evitar el cierre de cuarteles\n",
      "Marlaska elogia a Marruecos y su trabajo de “contención” de la inmigración tras la muerte de 23 subsaharianos en Melilla \n",
      "El Defensor del Pueblo abre una investigación sobre el incendio en la sierra de la Culebra\n",
      "Feijóo considera “discutible” dedicar dinero público a becas para familias de rentas altas como hace Ayuso\n",
      "Un juez archiva la causa contra el exmagistrado del Constitucional Fernando Valdés por supuesto maltrato \n",
      "La Audiencia justifica la salida del magistrado Delgado del juicio a Camps “para alejar cualquier sospecha de falta de imparcialidad”\n",
      "La Audiencia Provincial de Palma decide continuar con el juicio a Cursach tras desestimar buena parte de las peticiones de las defensas\n",
      "Un paraíso en el que avistar más de 20 especies de cetáceos\n",
      "El secreto de Fuerteventura se hace viral: la ‘playa de las palomitas’\n",
      "Un vino para triunfar entre los mileniales\n",
      "Artesanía y cultura que conquista a las ‘influencers’\n",
      "Más allá de la capital. El triunfo de la vida rural madrileña\n"
     ]
    }
   ],
   "source": [
    "tags = soup4.findAll(\"h2\")\n",
    "\n",
    "for h2 in tags:\n",
    "    print(h2.text)\n",
    "    resultados.append(h2.text)"
   ]
  },
  {
   "cell_type": "markdown",
   "id": "029c487e",
   "metadata": {},
   "source": [
    "### Impresión sección de economía"
   ]
  },
  {
   "cell_type": "markdown",
   "id": "7f3806bd",
   "metadata": {},
   "source": [
    "Utilizaremos la variable req para realizar la petición en la página web del diario El País."
   ]
  },
  {
   "cell_type": "code",
   "execution_count": 17,
   "id": "e4da5e73",
   "metadata": {},
   "outputs": [],
   "source": [
    "req5 = requests.get(\"https://elpais.com/economia/\")"
   ]
  },
  {
   "cell_type": "markdown",
   "id": "10db95cd",
   "metadata": {},
   "source": [
    "Si esa petición nos devuelve un código de estatus diferente a 200, significa que la consulta realizado tiene un error."
   ]
  },
  {
   "cell_type": "code",
   "execution_count": 18,
   "id": "54b52efd",
   "metadata": {},
   "outputs": [],
   "source": [
    "# Si el estatus code no es 200 no se puede leer la página\n",
    "if (req.status_code != 200):\n",
    " raise Exception(\"No se puede hacer Web Scraping en\"+ URL)\n",
    "soup5 = BeautifulSoup(req5.text, 'html.parser')"
   ]
  },
  {
   "cell_type": "markdown",
   "id": "646ec93e",
   "metadata": {},
   "source": [
    "La variable tags se le asigna el método de findall que recibe el parámetro h2 que identifica la operación de buscar todos los elementos dentro del html anteriormente parceados y los recorremos con el siguiente ciclo de repetición for, se imprime y también se almacena en la variable resultados."
   ]
  },
  {
   "cell_type": "code",
   "execution_count": 20,
   "id": "3e81ce09",
   "metadata": {
    "scrolled": true
   },
   "outputs": [
    {
     "name": "stdout",
     "output_type": "stream",
     "text": [
      "Jamie Dimon, el banquero más poderoso del mundo: “Los problemas económicos no son pasajeros. Las cosas pueden ir mucho peor”\n",
      "Elon Musk retira la oferta de compra por Twitter\n",
      "EE UU se consolida como primer proveedor de gas a España, en detrimento de Argelia\n",
      "Vecinos al borde de un ataque de nervios: morosos que usan la piscina, trasteros que son despensas y ruidos diarios\n",
      "Remite el riesgo de estanflación\n",
      "Bancos centrales, entre líneas\n",
      "Estado autonómico: Sobre las reformas pendientes\n",
      "Carlos Jiménez Villarejo: un hombre contra la desesperanza\n",
      "IPC: de la negación al riesgo de sobrerreacción\n",
      "Los españoles fueron los europeos que más pagaron por la luz entre enero y marzo\n",
      "José Antonio Ocampo: “Para crecer tenemos que trabajar mano a mano con las personas de altos ingresos, con los más ricos”\n",
      "CaixaBank advierte de que la subida de los intereses “aumenta el riesgo” ante burbujas inmobiliarias\n",
      "El ‘efecto Draghi’ pierde parte de su magia\n",
      "Así está la negociación sobre el pacto de rentas: un diagnóstico común, soluciones enfrentadas\n",
      "Remite el riesgo de estanflación\n",
      "El BCE cifra en 70.000 millones las pérdidas de la gran banca ante una crisis climática\n",
      "Ya se puede pedir el cheque ‘antinflación’ de 200 euros: ¿quién tiene derecho? ¿Dónde solicitarlo?\n",
      "Las constructoras acusan a la CNMC de “falta de rigor” por la macromulta de 204 millones\n",
      "Francisco González pide volver a declarar como imputado en el ‘caso Villarejo’\n",
      "Uniper, la mayor gasista alemana, pide el rescate asfixiada por los recortes del gas ruso\n",
      "La carrera por las oposiciones ha empezado: en juego hay 45.000 trabajos para toda la vida\n",
      "Los jueces se ponen de parte de las víctimas de ‘phishing’ bancario\n",
      "Texas es la nueva China para  Elon Musk\n",
      "IPC: de la negación al riesgo de sobrerreacción\n",
      "A Unilever se le indigesta el helado \n",
      "El mercado de la vivienda ante la subida de tipos\n",
      "Los hogares frenan su gasto en transporte y ocio y aumentan el de los alimentos\n",
      "\n",
      "Arnaud Ribault (Citroën): “Los concesionarios de la marca no están enfadados con el cambio de contrato”\n",
      "¿Qué pasa con las obras de arte que nadie quiere comprar?\n",
      "No se puede desheredar a un familiar con el que no se tiene relación, según el Supremo\n",
      "Líos en la piscina comunitaria: normas y sentencias para un chapuzón seguro\n",
      "Parir en casa, educarlo por mi cuenta… ¿Qué puedo decidir sobre mi hijo y qué no?\n",
      "Música que transforma vidas y esboza futuros\n",
      "El futuro probable de una sociedad insostenible\n",
      "Francisco Javier Blasco: “Llevamos años sin mejorar la eficacia de las políticas activas de empleo”\n",
      "La hora del bienestar corporativo\n",
      "Cancerberos del bienestar de la empresa\n",
      "Cómo garantizar la seguridad en un mundo de amenazas híbridas\n",
      "¿Cuáles son los dilemas éticos del uso de la inteligencia artificial?\n",
      "Las aventuras de un par de calcetines que dan empleo a todo un pueblo\n",
      "Cultura financiera como punto de partida para volver a empezar\n",
      "¿Puede convertirse España en una de las potencias logísticas del futuro?\n",
      "Por qué digitalizar una pyme aporta más empleo\n",
      "‘Coopetir’: la actitud DFactory\n",
      "Así serán las ciudades de la (nueva) última milla\n",
      "Cinco errores habituales al digitalizar un negocio \n",
      "PERTE Agroalimentario: ¿cómo acceder a los fondos europeos?\n",
      "Fondos soberanos: ¿Cómo funcionan las cajas fuertes de los estados más ricos?\n",
      "¿Crisis de deuda mundial a la vista?\n",
      "El método Muñoz para triunfar en cada reto que se propone\n",
      "Gloria Ramos, cuando el afán de superación acaba en la alfombra roja \n",
      "Ocho ‘startups’ innovadoras con nombre propio\n",
      "Hotmart y su plataforma 360 para creadores de contenidos\n"
     ]
    }
   ],
   "source": [
    "tags = soup5.findAll(\"h2\")\n",
    "\n",
    "for h2 in tags:\n",
    "    print(h2.text)\n",
    "    resultados.append(h2.text)"
   ]
  },
  {
   "cell_type": "markdown",
   "id": "05801e81",
   "metadata": {},
   "source": [
    "### Impresión sección de sociedad"
   ]
  },
  {
   "cell_type": "markdown",
   "id": "b4d1c6c2",
   "metadata": {},
   "source": [
    "Utilizaremos la variable req para realizar la petición en la página web del diario El Páis."
   ]
  },
  {
   "cell_type": "code",
   "execution_count": 21,
   "id": "1e3d40ca",
   "metadata": {},
   "outputs": [],
   "source": [
    "req6 = requests.get(\"https://elpais.com/sociedad/\")"
   ]
  },
  {
   "cell_type": "markdown",
   "id": "88ebd6eb",
   "metadata": {},
   "source": [
    "Si esa petición nos devuelve un código de estatus diferente a 200, significa que la consulta realizado tiene un error."
   ]
  },
  {
   "cell_type": "code",
   "execution_count": 24,
   "id": "60d4be67",
   "metadata": {},
   "outputs": [],
   "source": [
    "# Si el estatus code no es 200 no se puede leer la página\n",
    "if (req.status_code != 200):\n",
    " raise Exception(\"No se puede hacer Web Scraping en\"+ URL)\n",
    "soup6 = BeautifulSoup(req6.text, 'html.parser')"
   ]
  },
  {
   "cell_type": "markdown",
   "id": "54f2c56d",
   "metadata": {},
   "source": [
    "La variable tags se le asigna el método de findall que recibe el parámetro h2 que identifica la operación de buscar todos los elementos dentro del html anteriormente parceados y los recorremos con el siguiente ciclo de repetición for, se imprime y también se almacena en la variable resultados."
   ]
  },
  {
   "cell_type": "code",
   "execution_count": 25,
   "id": "943a9e83",
   "metadata": {},
   "outputs": [
    {
     "name": "stdout",
     "output_type": "stream",
     "text": [
      "Ángel Gabilondo, sobre su investigación de la pederastia: “Hay gente trabajando activamente para que esto no salga adelante”\n",
      "Radiografía de la séptima ola de covid: el virus comienza a perder impulso\n",
      "Mônica Benício: “Quiero que Lula sea presidente, pero quiero que haga políticas feministas y para la población LGTBI”\n",
      "El control del cuerpo de las mujeres\n",
      "No se gobierna con el catecismo romano\n",
      "Un día muy triste para todas las mujeres\n",
      "El Supremo de Estados Unidos destruye un derecho fundamental de las mujeres\n",
      "Un paso atrás, dos adelante: el avance de los derechos LGTBI en la antigua Yugoslavia\n",
      "El responsable LGTBI del PSOE celebra que Sánchez apartase a Calvo por su oposición a la ‘ley trans’\n",
      "Biden reacciona a las críticas sobre su inacción con un decreto para proteger el aborto\n",
      "El Papa asegura que el camino que ha seguido la Iglesia contra la pederastia “es irreversible”\n",
      "La sobrexplotación amenaza a las especies silvestres de las que dependen miles de millones de personas en el mundo\n",
      "Los ricos esperan menos para operarse, también en los hospitales públicos\n",
      "El 60% de los universitarios no se ve preparado para un mercado laboral que no encuentra los perfiles necesarios  \n",
      "El Constitucional declara por primera vez que toda discriminación de las personas trans es ilegal\n",
      "La ministra de Ciencia e Innovación: “El gran peligro es el negacionismo climático”\n",
      "Las emisiones de efecto invernadero volvieron a crecer en 2021 en España aunque sin sobrepasar los niveles previos a la pandemia\n",
      "¿Existe brecha generacional en el colectivo LGTBI? De la lucha por los derechos al debate identitario\n",
      "Se buscan profesionales en economía circular\n",
      "La economía circular llega a la ciudad. Te contamos dónde se encuentra \n",
      "¿Por qué hablar de VIH en el Orgullo y no en los sanfermines?\n",
      "Mitos, falsedades, bulos y realidades sobre el VIH 40 años después\n",
      "Qué son las evidencias científicas y por qué están revolucionando la educación\n",
      "Munic, el joven redimido por el trap\n",
      "El tremendo peso de la obesidad en España\n",
      "Interactivo | Los 14 cambios en los aeropuertos españoles que no ves y que ya están ocurriendo\n",
      "Encontrar empleo pese a los obstáculos. Por dónde empezar la búsqueda\n",
      "La fórmula de Carboneros para evitar el éxodo rural: trabajar cuidando a los vecinos \n",
      "Consejos y cuidados para el primer verano con un gatito o un perrito\n",
      "¿Qué tienen en común perros y gatos cuando son cachorros?\n",
      "La guía definitiva para alimentarnos mejor (y cuidar nuestra salud y la del planeta)\n",
      "El metro como refugio. De los andenes de Madrid en 1936 a los de Kiev en 2022\n",
      "La salud mental de los refugiados: cómo abrirse para cerrar las heridas\n",
      "Yogures con menos azúcar, paso firme hacia la alimentación infantil del futuro\n",
      "Conectada con el mercado laboral y tecnológica: así es la universidad del presente\n",
      "Así es la formación más abierta y flexible, a prueba de crisis\n"
     ]
    }
   ],
   "source": [
    "tags = soup6.findAll(\"h2\")\n",
    "\n",
    "for h2 in tags:\n",
    "    print(h2.text)\n",
    "    resultados.append(h2.text)"
   ]
  },
  {
   "cell_type": "markdown",
   "id": "fef1d0aa",
   "metadata": {},
   "source": [
    "### Impresión sección de educación"
   ]
  },
  {
   "cell_type": "markdown",
   "id": "35e55663",
   "metadata": {},
   "source": [
    "Utilizaremos la variable req para realizar la petición en la página web del diario El Páis."
   ]
  },
  {
   "cell_type": "code",
   "execution_count": 27,
   "id": "ba4f4fe8",
   "metadata": {},
   "outputs": [],
   "source": [
    "req7 = requests.get(\"https://elpais.com/educacion/\")"
   ]
  },
  {
   "cell_type": "markdown",
   "id": "87843723",
   "metadata": {},
   "source": [
    "Si esa petición nos devuelve un código de estatus diferente a 200, significa que la consulta realizado tiene un error."
   ]
  },
  {
   "cell_type": "code",
   "execution_count": 28,
   "id": "219f6c59",
   "metadata": {},
   "outputs": [],
   "source": [
    "# Si el estatus code no es 200 no se puede leer la página\n",
    "if (req.status_code != 200):\n",
    " raise Exception(\"No se puede hacer Web Scraping en\"+ URL)\n",
    "soup7 = BeautifulSoup(req7.text, 'html.parser')"
   ]
  },
  {
   "cell_type": "markdown",
   "id": "d3cad290",
   "metadata": {},
   "source": [
    "La variable tags se le asigna el método de findall que recibe el parámetro h2 que identifica la operación de buscar todos los elementos dentro del html anteriormente parceados y los recorremos con el siguiente ciclo de repetición for, se imprime y también se almacena en la variable resultados."
   ]
  },
  {
   "cell_type": "code",
   "execution_count": 29,
   "id": "e81145cd",
   "metadata": {},
   "outputs": [
    {
     "name": "stdout",
     "output_type": "stream",
     "text": [
      "El 60% del dinero destinado a becas educativas en Madrid será para los centros privados\n",
      "El 60% de los universitarios no se ve preparado para un mercado laboral que no encuentra los perfiles necesarios  \n",
      "¿Cómo se cierra un colegio público?\n",
      "¿Hay que obligar a los niños a hacer deberes en verano? Los expertos recomiendan actividades que no se parezcan a las tareas escolares\n",
      "Los sindicatos educativos catalanes convocan huelga el 7 de septiembre, primer día de curso en los institutos, y el 28\n",
      "El caso de Georgia, en EE UU: becar sin importar la renta agranda la desigualdad\n",
      "Madrid, el paraíso de la educación privada: en la capital son minoría los alumnos de la pública\n",
      "Trabajar en el ‘big data’: “Nunca he tenido que echar currículum, las ofertas me han llegado solas”\n",
      "El Gobierno lanza una ofensiva contra las becas para rentas altas de Ayuso que Feijóo respalda\n",
      "José Manuel Bar, secretario de Estado de Educación: “Los docentes de secundaria deben empezar a estudiar pedagogía en su carrera”\n",
      "Ayuso se apunta ahora el tanto de la bajada de tasas universitarias, pese a que las llevó a los tribunales para no reducirlas\n",
      "Sin currículos\n",
      "La escuela concertada ante las desigualdades: el debate pendiente\n",
      "La equidad frente a las políticas educativas de privatización en Andalucía\n",
      "No hay lunes al sol en la Universidad\n",
      "El nuevo sistema para evaluar los conocimientos digitales de los profesores valdrá en toda España\n",
      "Ofrecer comedor gratis en todos los colegios públicos es “alcanzable y urgente”: costaría 1.664 millones al año, según la ONG Educo  \n",
      "Una fórmula para que la escuela pública compita mejor con la concertada\n",
      "La pérdida de alumnos por el descenso de la natalidad está afectando con más fuerza a la escuela pública que a la concertada\n",
      "El caso de Georgia, en EE UU: becar sin importar la renta agranda la desigualdad\n",
      "El techo de cristal del grado medio de FP: candidatos demasiado preparados se quedan con los puestos\n",
      "La implantación del nuevo Bachillerato general fracasa pese a su demanda potencial: “Creímos que lo pedirían seis alumnos y lo han hecho 27”\n",
      "Toni Solano, director de instituto: “Veo mal a los niños, necesitan muchísima ayuda”\n",
      "Niños, Administraciones y redes sociales: prohibir su uso con una mano y enseñar a crear contenidos con la otra\n",
      "Una historia en la que caben Alaska, García Lorca, Suárez y Popper: la Universidad Internacional Menéndez Pelayo cumple 90 años \n",
      "Subirats reinterpreta la ley de Universidades: freno a la precariedad, facilidades para los alumnos extranjeros y ciencia abierta\n",
      "Las universitarias desertan del grado de Matemáticas ahora que tiene pleno empleo. ¿Por qué?\n",
      "Golpe a la temporalidad en las universidades: 25.000 profesores asociados serán indefinidos a tiempo parcial\n",
      "“No hay pensamiento sin tiempo para pensar”\n",
      "“En el hospital, la enseñanza es una medicina más”\n",
      "Un alegato por la paz y la cultura\n"
     ]
    }
   ],
   "source": [
    "tags = soup7.findAll(\"h2\")\n",
    "\n",
    "for h2 in tags:\n",
    "    print(h2.text)\n",
    "    resultados.append(h2.text)"
   ]
  },
  {
   "cell_type": "markdown",
   "id": "09daf36c",
   "metadata": {},
   "source": [
    "### Impresión sección de clima y medio ambiente"
   ]
  },
  {
   "cell_type": "markdown",
   "id": "4c4fc2bc",
   "metadata": {},
   "source": [
    "Utilizaremos la variable req para realizar la petición en la página web del diario El Páis."
   ]
  },
  {
   "cell_type": "code",
   "execution_count": 30,
   "id": "5301214c",
   "metadata": {},
   "outputs": [],
   "source": [
    "req8 = requests.get(\"https://elpais.com/clima-y-medio-ambiente/\")"
   ]
  },
  {
   "cell_type": "markdown",
   "id": "5385ae46",
   "metadata": {},
   "source": [
    "Si esa petición nos devuelve un código de estatus diferente a 200, significa que la consulta realizado tiene un error."
   ]
  },
  {
   "cell_type": "code",
   "execution_count": 31,
   "id": "f9198f6c",
   "metadata": {},
   "outputs": [],
   "source": [
    "# Si el estatus code no es 200 no se puede leer la página\n",
    "if (req.status_code != 200):\n",
    " raise Exception(\"No se puede hacer Web Scraping en\"+ URL)\n",
    "soup8 = BeautifulSoup(req8.text, 'html.parser')"
   ]
  },
  {
   "cell_type": "markdown",
   "id": "fd20fbf6",
   "metadata": {},
   "source": [
    "La variable tags se le asigna el método de findall que recibe el parámetro h2 que identifica la operación de buscar todos los elementos dentro del html anteriormente parceados y los recorremos con el siguiente ciclo de repetición for, se imprime y también se almacena en la variable resultados."
   ]
  },
  {
   "cell_type": "code",
   "execution_count": 32,
   "id": "03e46e03",
   "metadata": {},
   "outputs": [
    {
     "name": "stdout",
     "output_type": "stream",
     "text": [
      "La sobrexplotación amenaza a las especies silvestres de las que dependen miles de millones de personas en el mundo\n",
      "Segunda ola calor del verano: al menos cuatro días con máximas de hasta 46° y noches tórridas a más de 25°\n",
      "La emergencia climática llama a la puerta del mundo\n",
      "Las emisiones de efecto invernadero volvieron a crecer en 2021 en España aunque sin sobrepasar los niveles previos a la pandemia\n",
      "Jornada del foro Ecosistema Ahora, organizado por EL PAÍS, en imágenes\n",
      "La oceanógrafa y buceadora Gádor Muntaner: “Lo que más miedo me da es nadar en un mar sin tiburones”\n",
      "Los rinocerontes regresan a Mozambique 40 años después de su desaparición\n",
      "Carlos Nobre: “La Amazonia  ya muestra síntomas  de muerte”\n",
      "El Parlamento Europeo respalda el sello verde de la UE al gas y energía nuclear\n",
      "Un alud letal y una histórica sequía: el cambio climático castiga al norte de Italia\n",
      "Un año de espera por la bicicleta: el estallido de la demanda coincide con la escasez de suministro\n",
      "Un plan de retirada  \n",
      "Crisis energética y precios del carbono\n",
      "La lección del martín pescador para afrontar la crisis ecológica\n",
      "Estocolmo+50: mirar atrás para tomar impulso\n",
      "Ríos imposibles: las 171.000 barreras que rompen el curso de agua en España\n",
      "La UE abraza las renovables para romper la dependencia de Rusia\n",
      "La lucha en un pueblo de Teruel para salvar su última montaña\n",
      "¿Qué aire respiran los niños de Madrid y Barcelona? En el 46% de los colegios se supera la contaminación permitida\n",
      "“No hay pensamiento sin tiempo para pensar”\n",
      "“En el hospital, la enseñanza es una medicina más”\n",
      "Un alegato por la paz y la cultura\n"
     ]
    }
   ],
   "source": [
    "tags = soup8.findAll(\"h2\")\n",
    "\n",
    "for h2 in tags:\n",
    "    print(h2.text)\n",
    "    resultados.append(h2.text)"
   ]
  },
  {
   "cell_type": "markdown",
   "id": "f0f38f62",
   "metadata": {},
   "source": [
    "### Impresión sección ciencia"
   ]
  },
  {
   "cell_type": "markdown",
   "id": "56f9f8f8",
   "metadata": {},
   "source": [
    "Utilizaremos la variable req para realizar la petición en la página web del diario El Páis."
   ]
  },
  {
   "cell_type": "code",
   "execution_count": 33,
   "id": "a6f15219",
   "metadata": {},
   "outputs": [],
   "source": [
    "req9 = requests.get(\"https://elpais.com/ciencia/\")"
   ]
  },
  {
   "cell_type": "markdown",
   "id": "37beaed9",
   "metadata": {},
   "source": [
    "Si esa petición nos devuelve un código de estatus diferente a 200, significa que la consulta realizado tiene un error."
   ]
  },
  {
   "cell_type": "code",
   "execution_count": 34,
   "id": "a05f02b1",
   "metadata": {},
   "outputs": [],
   "source": [
    "# Si el estatus code no es 200 no se puede leer la página\n",
    "if (req.status_code != 200):\n",
    " raise Exception(\"No se puede hacer Web Scraping en\"+ URL)\n",
    "soup9 = BeautifulSoup(req9.text, 'html.parser')"
   ]
  },
  {
   "cell_type": "markdown",
   "id": "f00aef31",
   "metadata": {},
   "source": [
    "La variable tags se le asigna el método de findall que recibe el parámetro h2 que identifica la operación de buscar todos los elementos dentro del html anteriormente parceados y los recorremos con el siguiente ciclo de repetición for, se imprime y también se almacena en la variable resultados."
   ]
  },
  {
   "cell_type": "code",
   "execution_count": 35,
   "id": "58d38256",
   "metadata": {},
   "outputs": [
    {
     "name": "stdout",
     "output_type": "stream",
     "text": [
      "Mar Castellanos, neuróloga: “El ictus afecta cada vez más a personas en edad laboral. Las enfermedades cardiovasculares son una epidemia”\n",
      "¿Es la consciencia una ilusión intrascendente?\n",
      "Óvulos que se agotan y declive del esperma: todo lo que ignoramos sobre fertilidad hasta el momento de querer hijos\n",
      "Hallada en Atapuerca la cara del humano más antiguo de Europa\n",
      "El humano más antiguo de Europa: prehistoria que hace historia\n",
      "Rosaly Lopes, la persona que más volcanes ha descubierto: “Puede haber vida en Titán” \n",
      "Una cena conflictiva\n",
      "‘Meraxes gigas’: descubierta en la Patagonia argentina una nueva especie de dinosaurio carnívoro gigante\n",
      "La cola vestigial, el apéndice oculto del hombre que venció a Napoleón en Waterloo\n",
      "La agenda de la NASA para volver a la Luna (y quedarse)\n",
      "El sector biotecnológico supera las cifras de 2020 y capta 180 millones de euros de inversión privada\n",
      "“La identidad de género no se elige, como prueba el fracaso de las terapias de conversión”\n",
      "Un novedoso estudio sobre estrés adolescente propone un nuevo método para afrontarlo: optimizarlo en lugar de evitarlo\n",
      "Las mentes humanas detrás de las mentes artificiales\n",
      "El cerebro está más caliente de lo que se pensaba \n",
      "Cangrejos ermitaños: el arte de seleccionar la mejor concha\n",
      "¿Dónde hay civilizaciones extraterrestres?\n",
      "Las mentes humanas detrás de las mentes artificiales\n",
      "Matemáticas para describir los remolinos, los taxis del océano\n",
      "Reaparece la tesis de María Wonenburger, la pionera matemática española que permaneció décadas en el olvido\n",
      "Técnicas criptográficas que se fundamentan en lo impredecible\n",
      "Alrededor de la mesa\n",
      "Fracciones egipcias\n",
      "El problema del huerto\n",
      "La cola vestigial, el apéndice oculto del hombre que venció a Napoleón en Waterloo\n",
      "Molinos y gigantes, adelantos tecnológicos y el síndrome bicicleta\n",
      "El síndrome del hombre lobo y la realidad lógica de su fábula\n",
      "La locura como juego; más allá del Quijote y de las novelas de Pérez Galdós\n",
      "El andar del borracho, las huellas del azar y el juego de dados en algunos libros malditos\n",
      "¿Son mejores las hormonas bioidénticas?\n",
      "¿Qué surgió antes, el ARN o el ADN?\n",
      "¿Por qué se sabe que los núcleos de la Tierra rotan?\n",
      "¿Qué son los mini reactores nucleares?\n",
      "Invitados indeseables por Navidad: el muérdago y otras plagas que evitar durante las fiestas\n",
      "Las ‘apps’ nutricionales o cómo comer bien no debería depender de uno mismo\n",
      "Malnutrición invisible: el impacto de la pobreza en la salud infantil\n",
      "El óxido de etileno, la sustancia cancerígena que ha obligado a retirar miles de alimentos en la UE\n",
      "Que no te líen con los ingredientes: aceites y grasas de mala calidad nutricional\n"
     ]
    }
   ],
   "source": [
    "tags = soup9.findAll(\"h2\")\n",
    "\n",
    "for h2 in tags:\n",
    "    print(h2.text)\n",
    "    resultados.append(h2.text)"
   ]
  },
  {
   "cell_type": "markdown",
   "id": "e9d99409",
   "metadata": {},
   "source": [
    "### Impresión sección cultura"
   ]
  },
  {
   "cell_type": "markdown",
   "id": "a776a978",
   "metadata": {},
   "source": [
    "Utilizaremos la variable req para realizar la petición en la página web del diario El Páis."
   ]
  },
  {
   "cell_type": "code",
   "execution_count": 36,
   "id": "cefeec50",
   "metadata": {},
   "outputs": [],
   "source": [
    "req10 = requests.get(\"https://elpais.com/cultura/\")"
   ]
  },
  {
   "cell_type": "markdown",
   "id": "2b58e1a6",
   "metadata": {},
   "source": [
    "Si esa petición nos devuelve un código de estatus diferente a 200, significa que la consulta realizado tiene un error."
   ]
  },
  {
   "cell_type": "code",
   "execution_count": 37,
   "id": "1b45bb56",
   "metadata": {},
   "outputs": [],
   "source": [
    "# Si el estatus code no es 200 no se puede leer la página\n",
    "if (req.status_code != 200):\n",
    " raise Exception(\"No se puede hacer Web Scraping en\"+ URL)\n",
    "soup10 = BeautifulSoup(req10.text, 'html.parser')"
   ]
  },
  {
   "cell_type": "markdown",
   "id": "f393c9ee",
   "metadata": {},
   "source": [
    "La variable tags se le asigna el método de findall que recibe el parámetro h2 que identifica la operación de buscar todos los elementos dentro del html anteriormente parceados y los recorremos con el siguiente ciclo de repetición for, se imprime y también se almacena en la variable resultados."
   ]
  },
  {
   "cell_type": "code",
   "execution_count": 38,
   "id": "3ebb2b63",
   "metadata": {},
   "outputs": [
    {
     "name": "stdout",
     "output_type": "stream",
     "text": [
      "Muse monta un circo en Mad Cool y Uber irrita con sus precios \n",
      "The Killers y Stromae triunfan en una noche marcada por la música electrónica y bailable en el Bilbao BBK Live\n",
      "Muere a los 79 años Tony Sirico, Paulie en ‘Los Soprano’\n",
      "Cartografía de las desventuras húmedas\n",
      "Lo que debemos a Patxo Unzueta\n",
      "La huida\n",
      "Un siglo de canciones, 1.500 artistas\n",
      "La juerga veraniega de Rigoberta Bandini en el festival Cruïlla\n",
      "El festival de Aviñón arranca con un ‘chéjov’ turbulento dirigido por un disidente de Putin\n",
      "La banalidad del drama: la literatura que surge de los grandes juicios históricos\n",
      "Alivio para el arte conceptual: la justicia francesa considera que el autor de una obra es el artista que la concibe y no el que la ejecuta\n",
      "¿Cómo es un festival intergeneracional en 2022?\n",
      "‘Thor: Love and Thunder’, cuarta aventura individual del superhéroe de Marvel, y otros estrenos de este fin de semana\n",
      "El cine de propaganda nunca ha desaparecido: ahora se lanzan a él chinos y rusos\n",
      "Apoteosis de The Killers en Mad Cool ante 70.000 personas\n",
      "#Brahms125 aporta pasión y consuelo en las cálidas noches granadinas\n",
      "La Comunidad de Madrid retira una obra de Paco Bezerra prevista por los Teatros del Canal alegando razones económicas\n",
      "Estopa, Creu de Sant Jordi desde la periferia de la periferia\n",
      "‘Mali Twist’: Y el rock también llegó a Malí\n",
      "Muere el actor James Caan, célebre por encarnar a Sonny Corleone en ‘El padrino’, a los 82 años\n",
      "Cuándo un gallego te dice que sí, aunque esté pensando que no. La retranca gallega y otros misterios que descubrir en el Camino Inglés\n",
      "El último atardecer de Europa se ve solo desde este lugar. Un viaje hacia el infinito por el Camino de Fisterra-Muxía\n",
      "Lorca, en la ciudad al margen\n",
      "El Pirineo oscense, para entrar a vivir\n",
      "Toda la lectura del verano, en el bolsillo\n",
      "Longsellers: los libros más vendidos a lo largo de la historia\n",
      "Libros para descubrir el mundo recomendados por Benjamín Prado\n",
      "Encuentro virtual con la cantante Carla Morrison\n",
      "Ciclo MET VERANO con Cine Yelmo\n",
      "'KLIMT. La experiencia inmersiva'\n",
      "'Padre no hay más que uno 3'\n",
      "Tan guapos como imposibles\n",
      "El tercer encierro de San Fermín 2022, en imágenes\n",
      "Dos heridos por cornada en un multitudinario y vistoso tercer encierro de San Fermín con los toros de Escolar\n",
      "Más allá del frenesí de los sanfermines\n"
     ]
    }
   ],
   "source": [
    "tags = soup10.findAll(\"h2\")\n",
    "\n",
    "for h2 in tags:\n",
    "    print(h2.text)\n",
    "    resultados.append(h2.text)"
   ]
  },
  {
   "cell_type": "markdown",
   "id": "2f41e89d",
   "metadata": {},
   "source": [
    "### Impresión de la sección babelia"
   ]
  },
  {
   "cell_type": "markdown",
   "id": "a7674bad",
   "metadata": {},
   "source": [
    "Utilizaremos la variable req para realizar la petición en la página web del diario El Páis."
   ]
  },
  {
   "cell_type": "code",
   "execution_count": 40,
   "id": "9b836ee1",
   "metadata": {},
   "outputs": [],
   "source": [
    "req11 = requests.get(\"https://elpais.com/babelia/\")"
   ]
  },
  {
   "cell_type": "markdown",
   "id": "bd2c6e3b",
   "metadata": {},
   "source": [
    "Si esa petición nos devuelve un código de estatus diferente a 200, significa que la consulta realizado tiene un error."
   ]
  },
  {
   "cell_type": "code",
   "execution_count": 41,
   "id": "3d3d9ef8",
   "metadata": {},
   "outputs": [],
   "source": [
    "# Si el estatus code no es 200 no se puede leer la página\n",
    "if (req.status_code != 200):\n",
    " raise Exception(\"No se puede hacer Web Scraping en\"+ URL)\n",
    "soup11 = BeautifulSoup(req11.text, 'html.parser')"
   ]
  },
  {
   "cell_type": "markdown",
   "id": "93a7d339",
   "metadata": {},
   "source": [
    "La variable tags se le asigna el método de findall que recibe el parámetro h2 que identifica la operación de buscar todos los elementos dentro del html anteriormente parceados y los recorremos con el siguiente ciclo de repetición for, se imprime y también se almacena en la variable resultados."
   ]
  },
  {
   "cell_type": "code",
   "execution_count": 42,
   "id": "c1b9e386",
   "metadata": {},
   "outputs": [
    {
     "name": "stdout",
     "output_type": "stream",
     "text": [
      "Tristes, drogados, periféricos: la nueva literatura que refleja el dolor de los polígonos\n",
      "La fuga de Siberia de Trotsky, la revelación de Marta D. Riezu y otros libros de la semana\n",
      "El desvío experimental de Perfume Genius, los salmos de Nick Cave y otros discos del mes\n",
      "Jardines secretos en la jungla de asfalto: cómo resistir a la especulación plantando un árbol\n",
      "Los nuevos diaristas son vendedores de vidas\n",
      "La ‘Safo’ de Christina Rosenvinge no convence\n",
      "La gran música eleva a una compañía de danza inmadura\n",
      "Trampantojo: De veraneo\n",
      "‘Agua y jabón’: más que un libro, una constelación de genialidades\n",
      "Ayn Rand, ‘rednecks’ e inclusividad forzada: el mundo virtual como escenario político\n",
      "Hay un río de oro negro bajo A Coruña\n",
      "Un clavo quita otro, quizás\n",
      "Músicas ocultas\n",
      "Lo que siento (no se olviden de Ucrania) \n",
      "No eran marcianos, eran humanos\n",
      "‘La máquina de proyectar sueños’, un retorno a la infancia delicioso y temible\n",
      "‘Veinte años de Sol’ o cómo olvidar el pasado con un implante en el cerebro\n",
      "‘La fuga de Siberia en un trineo de renos’, de Trotsky: aventuras de un comunista en plena huida \n",
      "‘Magallanes & Co.’, los preparativos y aventuras de la primera vuelta al mundo\n",
      "Silvia Agüero: “De no ser escritora habría sido vendedora ambulante”\n",
      "Antoni Muntadas: “Supe que me dedicaría al arte cuando dejé de pintar”\n",
      "Manuel Estrada: “Me agrada que una portada guste más después de leer el libro”\n",
      "Óscar Esquivias: “No hace falta ser creyente para leer la Biblia”\n",
      "Amelia Castilla: “Los ritos nos ayudan a hacer viable el trance de la muerte”\n"
     ]
    }
   ],
   "source": [
    "tags = soup11.findAll(\"h2\")\n",
    "\n",
    "for h2 in tags:\n",
    "    print(h2.text)\n",
    "    resultados.append(h2.text)"
   ]
  },
  {
   "cell_type": "markdown",
   "id": "b6a7e3ba",
   "metadata": {},
   "source": [
    "### Impresión sección de deportes"
   ]
  },
  {
   "cell_type": "markdown",
   "id": "31243f6f",
   "metadata": {},
   "source": [
    "Utilizaremos la variable req para realizar la petición en la página web del diario El Páis."
   ]
  },
  {
   "cell_type": "code",
   "execution_count": 43,
   "id": "da4c5929",
   "metadata": {},
   "outputs": [],
   "source": [
    "req12 = requests.get(\"https://elpais.com/deportes/\")"
   ]
  },
  {
   "cell_type": "markdown",
   "id": "c27b73a2",
   "metadata": {},
   "source": [
    "Si esa petición nos devuelve un código de estatus diferente a 200, significa que la consulta realizado tiene un error."
   ]
  },
  {
   "cell_type": "code",
   "execution_count": 44,
   "id": "dc4d495d",
   "metadata": {},
   "outputs": [],
   "source": [
    "# Si el estatus code no es 200 no se puede leer la página\n",
    "if (req.status_code != 200):\n",
    " raise Exception(\"No se puede hacer Web Scraping en\"+ URL)\n",
    "soup12 = BeautifulSoup(req12.text, 'html.parser')"
   ]
  },
  {
   "cell_type": "markdown",
   "id": "1ab8e84a",
   "metadata": {},
   "source": [
    "La variable tags se le asigna el método de findall que recibe el parámetro h2 que identifica la operación de buscar todos los elementos dentro del html anteriormente parceados y los recorremos con el siguiente ciclo de repetición for, se imprime y también se almacena en la variable resultados."
   ]
  },
  {
   "cell_type": "code",
   "execution_count": 45,
   "id": "365e207c",
   "metadata": {},
   "outputs": [
    {
     "name": "stdout",
     "output_type": "stream",
     "text": [
      "Rybakina triunfa y cuela a Rusia en Wimbledon\n",
      "Serena a un lado, la rueda gira y gira\n",
      "El Tour de Francia de Van Aert y Pogacar\n",
      "¿Por qué es infinito?\n",
      "La Superliga, una oportunidad única para la Unión Europea\n",
      "¿Por qué me gusta el fútbol? \n",
      "Rafael no concibe abandonar\n",
      "Verstappen no da opción a Ferrari y se lleva la ‘pole’ en Austria  \n",
      "Rybakina, el rastro ‘ruso’ en Wimbledon\n",
      "Rumbo a Kyrgios, un Djokovic de récord\n",
      "Sandra Sánchez, el oro y las lágrimas del adiós al kárate\n",
      "El 9 de julio el Tour de Francia celebra San Federico Martín Bahamontes \n",
      "España debuta con cabeza en la Eurocopa\n",
      "Hugo Koblet, el James Dean del ciclismo\n",
      "Annemiek Van Vleuten, número uno del ciclismo femenino mundial: “Es difícil decir adiós”\n",
      "Guélfand, de 54 años, noquea a Yesipenko, de 20, con brío y brillo en el Magistral de León\n",
      "La lesión de Alexia Putellas: las roturas del ligamento cruzado anterior son tres veces más frecuentes en mujeres \n",
      "Cielo e infierno de Nadal, entre dos mundos\n",
      "Mapi León: “Se demostró que el fútbol femenino solo había que saber venderlo”\n",
      "Así tuvo que cambiar Nadal su saque para aguantar el dolor en Wimbledon\n",
      "“Si no tenemos en quién mirarnos es muy difícil saber qué queremos ser”\n",
      "“Nunca acepto un no por respuesta”\n",
      "La nadadora que dejó de competir para hacer campeones de básquet\n",
      "Crónica de dos ciudades moldeadas por la misma pasión \n",
      "Así tuvo que cambiar Nadal su saque para aguantar el dolor en Wimbledon\n",
      "La lesión de Alexia Putellas: las roturas del ligamento cruzado anterior son tres veces más frecuentes en mujeres \n",
      "Joseph Blatter y Michel Platini, absueltos de los cargos de corrupción por un tribunal suizo\n",
      "Dos glorias activas frente a dos jóvenes pujantes en el XXXV Magistral Ciudad de León\n",
      "¿Por qué me gusta el fútbol? \n",
      "La Superliga, una oportunidad única para la Unión Europea\n",
      "Rafael no concibe abandonar\n",
      "El deporte se complica para las mujeres trans\n"
     ]
    }
   ],
   "source": [
    "tags = soup12.findAll(\"h2\")\n",
    "\n",
    "for h2 in tags:\n",
    "    print(h2.text)\n",
    "    resultados.append(h2.text)"
   ]
  },
  {
   "cell_type": "markdown",
   "id": "7a30b099",
   "metadata": {},
   "source": [
    "### Impresión sección de tecnología "
   ]
  },
  {
   "cell_type": "markdown",
   "id": "4657ea20",
   "metadata": {},
   "source": [
    "Utilizaremos la variable req para realizar la petición en la página web del diario El Páis."
   ]
  },
  {
   "cell_type": "code",
   "execution_count": 46,
   "id": "ff9a0185",
   "metadata": {},
   "outputs": [],
   "source": [
    "req13 = requests.get(\"https://elpais.com/tecnologia/\")"
   ]
  },
  {
   "cell_type": "markdown",
   "id": "51dd5ac7",
   "metadata": {},
   "source": [
    "Si esa petición nos devuelve un código de estatus diferente a 200, significa que la consulta realizado tiene un error."
   ]
  },
  {
   "cell_type": "code",
   "execution_count": 47,
   "id": "2c589bc3",
   "metadata": {},
   "outputs": [],
   "source": [
    "# Si el estatus code no es 200 no se puede leer la página\n",
    "if (req.status_code != 200):\n",
    " raise Exception(\"No se puede hacer Web Scraping en\"+ URL)\n",
    "soup13 = BeautifulSoup(req13.text, 'html.parser')"
   ]
  },
  {
   "cell_type": "markdown",
   "id": "fd207025",
   "metadata": {},
   "source": [
    "La variable tags se le asigna el método de findall que recibe el parámetro h2 que identifica la operación de buscar todos los elementos dentro del html anteriormente parceados y los recorremos con el siguiente ciclo de repetición for, se imprime y también se almacena en la variable resultados."
   ]
  },
  {
   "cell_type": "code",
   "execution_count": 48,
   "id": "1985a49b",
   "metadata": {},
   "outputs": [
    {
     "name": "stdout",
     "output_type": "stream",
     "text": [
      "Las activistas que dejaron sin anuncios a la web de Steve Bannon van ahora a por Fox News\n",
      "“¿Quieres cobrar tu salario en streaming?” Por qué los proyectos cripto son tan difíciles de entender\n",
      "El misterio de la carta del soldado alemán\n",
      "El porqué de los desafíos criptográficos: conocerte a ti mismo, conocer a tu enemigo\n",
      "Con el relax del verano se acentúan los peligros cibernéticos: así puede protegerse durante las vacaciones\n",
      "Meta presenta un traductor capaz de operar en tiempo real con 200 idiomas\n",
      "“Soy catedrático de informática. Como mis colegas, sé que la tecnología de bitcoin es basura”\n",
      "El sector biotecnológico supera las cifras de 2020 y capta 180 millones de euros de inversión privada\n",
      "Las mentes humanas detrás de las mentes artificiales\n",
      "El juego de la técnica\n",
      "Daniel Innerarity: “Los algoritmos son conservadores y nuestra libertad depende de que nos dejen ser imprevisibles”\n",
      "Regina Barzilay: “Tenemos que aprender a vivir en un mundo en el que la tecnología toma decisiones que no podemos supervisar”\n",
      "Herramientas y trucos para recordar la ubicación del coche gracias al móvil\n",
      "Las tres amigas que quieren revolucionar los materiales de construcción con fibras de hongos\n",
      "El Constitucional afianza el derecho al olvido en internet\n",
      "En defensa de la procrastinación. Elogio del tiempo perdido (frente al que las redes te roban)\n",
      "Instagram, el mejor de los mundos posibles\n",
      "Del terrorismo youtuber al influencer rabioso: el odio inunda la red\n",
      "Cronodiversidad. ¿Por qué el tiempo cada vez va más rápido?\n",
      "El impacto de la tecnología en la hostelería: de la comanda digital al pago con código QR\n",
      "Herramientas que ayudan a crecer a las empresas (más allá de los pagos)\n",
      "La cámara de este ‘smartphone’ es pura magia\n",
      "Por qué los nuevos coches ya no los diseñarán las personas\n",
      "Una catapulta para el talento de ‘kilómetro cero’\n"
     ]
    }
   ],
   "source": [
    "tags = soup13.findAll(\"h2\")\n",
    "\n",
    "for h2 in tags:\n",
    "    print(h2.text)\n",
    "    resultados.append(h2.text)"
   ]
  },
  {
   "cell_type": "markdown",
   "id": "2b5f0df6",
   "metadata": {},
   "source": [
    "### Impresión de la sección gente "
   ]
  },
  {
   "cell_type": "markdown",
   "id": "a5303367",
   "metadata": {},
   "source": [
    "Utilizaremos la variable req para realizar la petición en la página web del diario El País."
   ]
  },
  {
   "cell_type": "code",
   "execution_count": 49,
   "id": "1802ff00",
   "metadata": {},
   "outputs": [],
   "source": [
    "req15 = requests.get(\"https://elpais.com/gente/\")"
   ]
  },
  {
   "cell_type": "markdown",
   "id": "f19e54ca",
   "metadata": {},
   "source": [
    "Si esa petición nos devuelve un código de estatus diferente a 200, significa que la consulta realizado tiene un error."
   ]
  },
  {
   "cell_type": "code",
   "execution_count": 50,
   "id": "4cdab75c",
   "metadata": {},
   "outputs": [],
   "source": [
    "# Si el estatus code no es 200 no se puede leer la página\n",
    "if (req.status_code != 200):\n",
    " raise Exception(\"No se puede hacer Web Scraping en\"+ URL)\n",
    "soup15 = BeautifulSoup(req15.text, 'html.parser')"
   ]
  },
  {
   "cell_type": "markdown",
   "id": "60c32c48",
   "metadata": {},
   "source": [
    "La variable tags se le asigna el método de findall que recibe el parámetro h2 que identifica la operación de buscar todos los elementos dentro del html anteriormente parceados y los recorremos con el siguiente ciclo de repetición for, se imprime y también se almacena en la variable resultados."
   ]
  },
  {
   "cell_type": "code",
   "execution_count": 51,
   "id": "bef686ee",
   "metadata": {},
   "outputs": [
    {
     "name": "stdout",
     "output_type": "stream",
     "text": [
      "El Baile de la Rosa vuelve a llenar Mónaco de glamur y famosos tras dos años de parón\n",
      "¿Quién es quién en la familia real de Mónaco? Un repaso a los Grimaldi por el Baile de la Rosa\n",
      "La cumbre de la alpargata\n",
      "El arbusto sauzgatillo, anafrodisiaco en la Antigua Grecia y regulador hormonal en la actualidad \n",
      "Steven Meisel será el segundo fotógrafo al que Marta Ortega homenajea en A Coruña\n",
      "Elon Musk, sobre sus 10 hijos: “Estoy haciendo todo lo posible para ayudar con la crisis de despoblación” \n",
      "Juana Martín, primera mujer española “y gitana” en la alta costura de París, tras su desfile: “Me he dejado la piel”\n",
      "En verano, el mejor queso del mundo se hace helado\n",
      "El espectáculo (teatral) debe continuar en la alta costura de París\n",
      "Elon Musk tuvo gemelos en secreto con una ejecutiva de una de sus empresas\n",
      "Por qué es importante conocer tu personalidad erótica para tener una vida sexual más satisfactoria\n",
      "Realismo, entretenimiento y democracia: la alta costura se deshace por fin de sus estereotipos en París\n",
      "Matthew Bronfman, el ‘príncipe’ de Wall Street y heredero de un imperio licorero que se ha reunido con el rey Felipe VI\n",
      "Realismo, entretenimiento y democracia: la alta costura se deshace por fin de sus estereotipos en París\n",
      "Nostalgia ‘retro’, punto multicolor y otras pistas para vestir este verano\n",
      "La dictadura de la perfección, misoginia y Jeffrey Epstein: los ángeles y demonios de Victoria’s Secret\n",
      "Dios y diamantes: lo que Kendrick Lamar nos quiso decir a través de su corona de espinas\n",
      "Entre Sevilla, Ascot, el pasado y el futuro: Mans condensa su universo en una colección sin miedo a los contrastes\n",
      "En verano, el mejor queso del mundo se hace helado\n",
      "El placer de lo rancio y otros gustos y aromas que recuerdan la niñez\n",
      "Trece aperitivos\n",
      "La rebelión de las cocineras de España: “Hay mujeres, falta reconocimiento”\n"
     ]
    }
   ],
   "source": [
    "tags = soup15.findAll(\"h2\")\n",
    "\n",
    "for h2 in tags:\n",
    "    print(h2.text)\n",
    "    resultados.append(h2.text)"
   ]
  },
  {
   "cell_type": "markdown",
   "id": "0decaa01",
   "metadata": {},
   "source": [
    "### Impresión de la sección televisión"
   ]
  },
  {
   "cell_type": "markdown",
   "id": "154cf178",
   "metadata": {},
   "source": [
    "Utilizaremos la variable req para realizar la petición en la página web del diario El País."
   ]
  },
  {
   "cell_type": "code",
   "execution_count": 52,
   "id": "63f3731f",
   "metadata": {},
   "outputs": [],
   "source": [
    "req16 = requests.get(\"https://elpais.com/television/\")"
   ]
  },
  {
   "cell_type": "markdown",
   "id": "36a1d2f4",
   "metadata": {},
   "source": [
    "Si esa petición nos devuelve un código de estatus diferente a 200, significa que la consulta realizado tiene un error."
   ]
  },
  {
   "cell_type": "code",
   "execution_count": 53,
   "id": "f23726c1",
   "metadata": {},
   "outputs": [],
   "source": [
    "# Si el estatus code no es 200 no se puede leer la página\n",
    "if (req.status_code != 200):\n",
    " raise Exception(\"No se puede hacer Web Scraping en\"+ URL)\n",
    "soup16 = BeautifulSoup(req16.text, 'html.parser')"
   ]
  },
  {
   "cell_type": "markdown",
   "id": "79cb863a",
   "metadata": {},
   "source": [
    "La variable tags se le asigna el método de findall que recibe el parámetro h2 que identifica la operación de buscar todos los elementos dentro del html anteriormente parceados y los recorremos con el siguiente ciclo de repetición for, se imprime y también se almacena en la variable resultados."
   ]
  },
  {
   "cell_type": "code",
   "execution_count": 54,
   "id": "85521d85",
   "metadata": {},
   "outputs": [
    {
     "name": "stdout",
     "output_type": "stream",
     "text": [
      "Carlos Fernández: “Netflix quiere ser de mayor una televisión en abierto, pero de pago” \n",
      "Muere a los 79 años Tony Sirico, Paulie en ‘Los Soprano’\n",
      "‘Encerrado con el diablo’: Dennis Lehane busca en el fondo del alma humana\n",
      "Menos mal que quedan los libros\n",
      "Stephen King adora ‘Stranger Things’ y viceversa\n",
      "Sanfermines: maltrato animal en riguroso directo\n",
      "‘La ciudad es nuestra’ o la corrupción policial\n",
      "‘La noche más larga’ y ‘La lista final’: palomitas sin sabor para el verano\n",
      "Los dilemas de ‘La firma de Dios’: ¿y si el virus detrás de una pandemia tuviera conciencia y voluntad propia?\n",
      "Arturo Valls pasa de presentador a recluso por rebasar los límites del humor en ‘Dos años y un día’\n",
      "Entre novedades y apuestas de bajo riesgo: así es el verano en la televisión en abierto\n",
      "Vivir y morir en Colombia, ciencia desmitificada, un nuevo lugar del crimen y adictos a la cultura pop, entre los ‘podcasts’ de julio\n",
      "Promover el turismo en tiempos de nueva normalidad, pero con vieja publicidad\n",
      "Podium Podcast estrena web con más de 400 contenidos y nuevo diseño\n",
      "EGM 2022: La SER cierra temporada de nuevo como la radio más escuchada\n",
      "¿Quién demonios votó a Podemos en La Moraleja?\n",
      "La televisión también quiere ser verde: cómo ‘Servir y proteger’ disminuyó la contaminación en su rodaje\n",
      "¿Qué ver hoy en TV? Sábado 9 de julio de 2022\n",
      "Nueve capítulos para recordar ‘The Wire’ en su 20º aniversario\n",
      "Harry Palmer: el tercer vértice del mágico triángulo de espías británicos\n",
      "Las series de junio de 2022: ‘The Boys’ en Amazon Prime Video; ‘Peaky Blinders’ en Netflix y otras\n",
      "La fuerza acompaña a ‘Obi-Wan Kenobi’, una serie deslumbrante\n"
     ]
    }
   ],
   "source": [
    "tags = soup16.findAll(\"h2\")\n",
    "\n",
    "for h2 in tags:\n",
    "    print(h2.text)\n",
    "    resultados.append(h2.text)"
   ]
  },
  {
   "cell_type": "markdown",
   "id": "45b14867",
   "metadata": {},
   "source": [
    "### Impresión sección EPS de El País "
   ]
  },
  {
   "cell_type": "markdown",
   "id": "5a96a2f0",
   "metadata": {},
   "source": [
    "Utilizaremos la variable req para realizar la petición en la página web del diario El País."
   ]
  },
  {
   "cell_type": "code",
   "execution_count": 55,
   "id": "f24d5094",
   "metadata": {},
   "outputs": [],
   "source": [
    "req17 = requests.get(\"https://elpais.com/eps/\")"
   ]
  },
  {
   "cell_type": "markdown",
   "id": "c5e7edca",
   "metadata": {},
   "source": [
    "Si esa petición nos devuelve un código de estatus diferente a 200, significa que la consulta realizado tiene un error"
   ]
  },
  {
   "cell_type": "code",
   "execution_count": 56,
   "id": "00e8cdd5",
   "metadata": {},
   "outputs": [],
   "source": [
    "# Si el estatus code no es 200 no se puede leer la página\n",
    "if (req.status_code != 200):\n",
    " raise Exception(\"No se puede hacer Web Scraping en\"+ URL)\n",
    "soup17 = BeautifulSoup(req17.text, 'html.parser')"
   ]
  },
  {
   "cell_type": "markdown",
   "id": "f3601575",
   "metadata": {},
   "source": [
    "La variable tags se le asigna el método de findall que recibe el parámetro h2 que identifica la operación de buscar todos los elementos dentro del html anteriormente parceados y los recorremos con el siguiente ciclo de repetición for, se imprime y también se almacena en la variable resultados."
   ]
  },
  {
   "cell_type": "code",
   "execution_count": 57,
   "id": "b30b849d",
   "metadata": {},
   "outputs": [
    {
     "name": "stdout",
     "output_type": "stream",
     "text": [
      "Orgullo con todas las letras\n",
      "Pietro Beccari: “El desfile de Sevilla es uno de los mejores, si no el mejor, que ha hecho Maria Grazia Chiuri en Dior”\n",
      "Las heridas abiertas de la infancia en Irak\n",
      "La cocinera que trasladó las flores del jarrón al plato\n",
      "¿Dónde está exactamente el origen del mal?\n",
      "El hombre que persigue la gaita más antigua del mundo\n",
      "El golazo literario de Roberto Santiago con ‘Los futbolísimos’\n",
      "La uva más denostada de  Castilla-La Mancha resurge de sus cenizas\n",
      "La rebelión de las cocineras de España: “Hay mujeres, falta reconocimiento”\n",
      "En busca de la huella de Camarón de la Isla, leyenda viva del flamenco\n",
      "Oliviero Toscani: “El fascismo resulta muy cómodo porque no te exige razonar”\n",
      "República Dominicana, donde la vida fluye por el río infinito\n",
      "El placer de lo rancio y otros gustos y aromas que recuerdan la niñez\n",
      "Los 10 coches que menos consumen en 2022\n",
      "El engaño a los ojos\n",
      "Reír a lágrima viva\n",
      "El cuerpo\n",
      "Cuento de Catherine del Biombo 5\n",
      "Harina enriquecida para acabar con el “hambre oculta”\n",
      "Lugares de esperanza para salvar los océanos\n",
      "Los guardianes del clima que llevan medio siglo leyendo las advertencias de los glaciares\n",
      "Epidemia de violencia: claves del negocio de las armas en Estados Unidos\n",
      "Los ejecutivos voladores y la ética medioambiental\n",
      "Ibiza, entre la noche desenfrenada y el turismo tranquilo \n",
      "Luz Casal: “Tengo el alma rockera. Nada ha doblegado mi rebeldía”\n",
      "Rashid Johnson: “Los pensadores y creadores negros estamos cansados de que nos nieguen un espacio autónomo”\n",
      "Sergio Hernández: “En el mundo, la gente ya no quiere verdades, quiere mentiras”\n",
      "Elvira Sastre: “No hay que perdonarlo todo”\n",
      "La trinidad del taco perfecto: “Buena tortilla, delicioso relleno y una salsa sabrosa”\n",
      "La casa de Nina Urgell Cloquell, un piso en el que las paredes hablan\n",
      "Garbanzos verdes y puchero\n",
      "Bikôkô y Julio Peña, dos estrellas en ebullición  \n",
      "Cuando Chufy encontró a Rossy: dos amigas, una isla y una colección de moda\n",
      "Retrato Robot \n",
      "Ilusiones hipnóticas\n",
      "El poder del hormigón\n",
      "Maulévrier, Japón a la francesa\n",
      "‘Fantasías en el Prado’, por Alberto García-Alix\n"
     ]
    }
   ],
   "source": [
    "tags = soup17.findAll(\"h2\")\n",
    "\n",
    "for h2 in tags:\n",
    "    print(h2.text)\n",
    "    resultados.append(h2.text)\n"
   ]
  },
  {
   "cell_type": "markdown",
   "id": "e49be882",
   "metadata": {},
   "source": [
    "## Código fuente"
   ]
  },
  {
   "cell_type": "code",
   "execution_count": 15,
   "id": "621bbbaa",
   "metadata": {
    "scrolled": false
   },
   "outputs": [
    {
     "name": "stdout",
     "output_type": "stream",
     "text": [
      "Jamie Dimon, el banquero más poderoso: “Los problemas económicos no son pasajeros. Las cosas pueden ir mucho peor”\n",
      "Kamala Harris asume que fue un error dar por sentado el derecho al aborto en EE UU\n",
      "Remite el riesgo de estanflación\n",
      "Ocampo: “Para crecer hay que trabajar mano a mano con los ricos en Colombia”\n",
      "Luis Echeverría, el gran represor de México muere impune a los 100 años\n",
      "Los frentes abiertos de Castillo agudizan la inestabilidad de Perú\n",
      "El “momento Churchill”\n",
      "Operación salida… de los cuerpos amantes y gozosos\n",
      "Putin intentará estrangular a la Unión Europea\n",
      "Mi bebé ya entiende de política\n",
      "Mar Castellanos, neuróloga: “El ictus ya no es una enfermedad de gente mayor”\n",
      "Los próximos pasos de la revolución conservadora del Supremo de EE UU\n",
      "La Columna Armada: una historia de narcos, autodefensas y caciques en Tamaulipas\n",
      "Más de 4.000 dólares para compensar una negligencia médica que costó perder el útero y la amputación de las piernas\n",
      "Menores que migran solos: una tragedia que crece en las fronteras colombianas\n",
      "Las protestas masivas por la crisis económica fuerzan la dimisión del presidente y del primer ministro en Sri Lanka\n",
      "Condenada una mujer a 43 años de cárcel por defenderse de su agresor en México\n",
      "Las activistas que dejaron sin anuncios a la web de Steve Bannon van ahora a por Fox News\n",
      "Mônica Benício: “Quiero que Lula sea presidente, pero quiero que haga políticas feministas y para la población LGTBI”\n",
      "El exministro de Economía Rishi Sunak lanza su candidatura a liderar el Partido Conservador\n",
      "José Eduardo dos Santos, de la guerrilla comunista al clan de los gobernantes millonarios\n",
      "Especial | Secuestro y asesinato de Miguel Ángel Blanco: cuando ETA perdió la calle\n",
      "Sudáfrica se rebela contra el alcoholismo juvenil tras la muerte de 21 adolescentes en un bar\n",
      "Los militares de Canadá se abren a un código más inclusivo: tatuajes en el rostro y uniformes sin distinción de género \n",
      "Duchas cortas y límite a las calefacciones: Alemania se prepara para posibles cortes de energía\n",
      "La policía japonesa admite fallos en la seguridad de Shinzo Abe\n",
      "La muerte a tiros de Shinzo Abe conmociona a un país poco acostumbrado al uso de armamento\n",
      "Vídeo | ¿Por qué el atentado contra el ex primer ministro es algo excepcional en Japón?\n",
      "El detenido por el asesinato: desempleado y antiguo miembro de las fuerzas armadas\n",
      "La fuga de Siberia de Trotsky, la revelación de Marta D. Riezu y otros libros de la semana\n",
      "Músicas ocultas\n",
      "Jardines secretos en la jungla de asfalto: cómo resistir a la especulación plantando un árbol\n",
      "El desvío experimental de Perfume Genius, los salmos de Nick Cave y otros discos \n",
      "La banalidad del drama: la literatura que surge de los grandes juicios históricos\n",
      "Muere a los 79 años Tony Sirico, Paulie en ‘Los Soprano’\n",
      "Un ‘chéjov’ turbulento dirigido por un disidente de Putin\n",
      "Menos mal que quedan los libros\n",
      "Róisín Murphy: “Cuando salgo al escenario, lo hago como sale una bala”\n",
      "10 veces que las ‘celebrities’ se vistieron de novia en la alfombra roja\n",
      "Elliot Page: cuando el insulto es un ‘necronombre’\n",
      "La demanda femenina de zapatillas que solo encuentra oferta masculina\n",
      "Recorra Madrid de la mano de ‘La casa de papel’ \n",
      "¿Quién es quién en la familia real de Mónaco? Un repaso a los Grimaldi\n",
      "Rybakina triunfa y cuela a Rusia en Wimbledon\n",
      "Verstappen no da opción a Ferrari y se lleva la ‘pole’ en Austria  \n",
      "El Tour de Francia de Van Aert y Pogacar\n",
      "El 9 de julio el Tour de Francia celebra San Federico Martín Bahamontes \n",
      "¿Por qué es infinito?\n",
      "EL PAÍS América gana el Premio de la Asociación Mundial de Editores al mejor sitio de noticias de Latinoamérica\n",
      "Vender a una niña por comida: “Hubo pretendientes e intenté escoger al más joven”\n",
      "Francisco de Roux: “Si no se acaba con el narco, Colombia no tendrá paz”\n",
      "La economía mundial se desinfla: así es la crisis que viene\n",
      "Japan’s ex-PM Shinzo Abe dies in hospital after being shot by gunman\n",
      "An ex-Marine processes war trauma, uncovers memories of abuse at a Catholic school in Spain\n",
      "‘Meraxes gigas’: New species of giant dinosaur discovered in Argentina \n",
      "Fàtima Crispi: “It is assumed that the pregnant woman is a happy woman… but the stress of pregnancy is closely related to the fear of the unknown.”\n",
      "‘One has to go’: How Chris Pratt became the least liked of all of Hollywood’s actors named Chris\n",
      "Letras Americanas: la actualidad literaria de un continente vista por el escritor Emiliano Monge\n",
      "Americanas: Reportajes y noticias sobre feminismo e historias con enfoque de género de la región\n",
      "Toda la actualidad científica en el boletín de Materia\n",
      "Ideas: reportajes y entrevistas para entender el mundo\n",
      "El agente que mató a George Floyd, condenado a otros 21 años de cárcel por violar sus derechos civiles\n",
      "Haití, sin presidente y sin Estado un año después del asesinato de Jovenel Moïse\n",
      "Petro nombra a Alejandro Gaviria en Educación y ahonda en su perfil de moderado\n",
      "Inflación, energía, reservas y tipo de cambio: los desafíos que lastran a la economía Argentina en el segundo semestre\n",
      "Los argentinos se lanzan a las tiendas ante una nueva crisis del peso: “Si ves algo, compra”\n",
      "Uniper, la mayor gasista alemana, pide el rescate asfixiada por los recortes del gas ruso\n",
      "Marcos López Hoyos, inmunólogo: “Deberíamos usar mascarillas en interiores y comer en terrazas”\n",
      "La falta de presupuesto ahoga a los refugios para mujeres víctimas de violencia en México\n",
      "¿Existe brecha generacional en el colectivo LGTBI? De la lucha por los derechos al debate identitario\n",
      "Alivio para el arte conceptual: la justicia francesa considera que el autor de una obra es el artista que la concibe y no el que la ejecuta\n",
      "‘Mali Twist’: Y el rock también llegó a Malí\n",
      "Muere el actor James Caan, célebre por encarnar a Sonny Corleone en ‘El padrino’, a los 82 años\n",
      "Óvulos que se agotan y declive del esperma: todo lo que ignoramos sobre fertilidad hasta el momento de querer hijos\n",
      "¿Es la consciencia una ilusión intrascendente?\n",
      "Rosaly Lopes, la persona que más volcanes ha descubierto: “Puede haber vida en Titán” \n",
      "Rybakina triunfa y cuela a Rusia en Wimbledon\n",
      "España debuta con cabeza en la Eurocopa\n",
      "Hugo Koblet, el James Dean del ciclismo\n",
      "La sobrexplotación amenaza a las especies silvestres de las que dependen miles de millones de personas en el mundo\n",
      "‘Mi familia de ardillas’, por Jacinto Antón\n",
      "Adiós al Aquarama del zoo de Barcelona, el hogar de la orca ‘Ulises’\n",
      "Las activistas que dejaron sin anuncios a la web de Steve Bannon van ahora a por Fox News\n",
      "El misterio de la carta del soldado alemán\n",
      "Jorge Stolfi: “Soy catedrático de informática. Como mis colegas, sé que la tecnología de bitcoin es basura”\n",
      "Primer paso en firme para erradicar en Huelva las chabolas en las que malviven los temporeros\n",
      "La entrada de agentes marroquíes en Melilla despierta dudas legales entre los expertos\n",
      "Laura Borràs exhibe apoyos para continuar en un homenaje sin representantes del Govern\n",
      "Muere a los 79 años Tony Sirico, Paulie en ‘Los Soprano’\n",
      "Carlos Fernández: “Netflix quiere ser de mayor una televisión en abierto, pero de pago” \n",
      "‘Menos mal que quedan los libros’, por Carlos Boyero\n",
      "El espectáculo (teatral) debe continuar en la alta costura de París\n",
      "Por qué es importante conocer tu personalidad erótica para tener una vida sexual más satisfactoria\n",
      "Elon Musk tuvo gemelos en secreto con una ejecutiva de una de sus empresas\n",
      "El Panamá indígena busca empoderar a sus mujeres\n",
      "Volver a la escuela tras dos años de pandemia\n",
      "¿Dónde está exactamente el origen del mal?\n",
      "El hombre que persigue la gaita más antigua del mundo\n",
      "La tiranía de la vida eficiente: ¿alguien es capaz de no hacer nada? \n",
      "Carlos Nobre: “La Amazonia  ya muestra síntomas  de muerte”\n",
      "Manual para sobrevivir al calentón del euríbor\n",
      "La carrera por las oposiciones ha empezado: en juego hay 45.000 trabajos para toda la vida\n",
      "Ayn Rand, ‘rednecks’ e inclusividad forzada: el mundo virtual como escenario político\n",
      "Hay un río de oro negro bajo A Coruña\n",
      "Un continente donde los sueños tienen menos de 30 años\n",
      "Toca devolver lo prestado: la crisis de deuda asfixia el desarrollo en África\n",
      "Siete calas del Mediterráneo dignas de culto\n",
      "Una noche en pleno delta del Okavango\n",
      "De Lady Gaga a Meghan Markle: 10 veces que las ‘celebrities’ se vistieron de novia porque sí en una alfombra roja\n",
      "El ‘influencer’ más varguardista del momento crea parodias de la moda desde una de las islas más pobres del mundo\n",
      "A-ha: cómo tres tipos que no se soportan sobrevivieron a la canción pop más grande de los ochenta \n",
      "Una granja llena de armas y dos denuncias por secuestro: ¿cómo ha llegado Ezra Miller hasta aquí?\n",
      "La receta de Ladilla Rusa: ensaladilla rusa\n",
      "Aló Comidista: “¿Tomar gazpacho es un pecado nutricional?”\n",
      "Las oficinas del futuro: espacios híbridos con tecnología integrada para rendir más (y mejor)\n",
      "Abre la primera casa sin cocina para los enfermos que no pueden parar de comer: así es el síndrome de Prader Willi\n",
      "Ponte a prueba con nuestros crucigramas, sopas de letras, sudokus y juegos arcade\n",
      "Toni Cantó, directo al ‘trending topic’ por lo que ha dicho al hablar de su trabajo\n",
      "Vinicius Tobias es la sorpresa\n",
      "Después del Homo Sapiens: ¿dioses o tiranos?\n"
     ]
    },
    {
     "name": "stdout",
     "output_type": "stream",
     "text": [
      "El exministro de Economía Rishi Sunak lanza su candidatura a liderar el Partido Conservador británico\n",
      "La policía japonesa admite fallos en la seguridad de Shinzo Abe\n",
      "Las protestas masivas por la crisis económica fuerzan la dimisión del presidente y del primer ministro en Sri Lanka\n",
      "Un magnicidio inusual que hace sentir a los japoneses vulnerables \n",
      "Populistas occidentales por el desagüe de la historia\n",
      "Boris Johnson dimite\n",
      "La ultraderecha mundial y el control de los cuerpos\n",
      "Las otras fronteras de Rusia: entre el miedo (al imperio) y los intereses nacionales\n",
      "Duchas cortas y límite a las calefacciones: Alemania se prepara para posibles cortes de energía este invierno\n",
      "La muerte a tiros de Shinzo Abe conmociona a un país poco acostumbrado al uso de armamento\n",
      "Shinzo Abe, un primer ministro carismático que marcó el rumbo de la política en Japón\n",
      "Un magnicidio inusual que hace sentir a los japoneses vulnerables \n",
      "Shinzo Abe no es el primero: historia reciente de los magnicidios\n",
      "El detenido por la muerte de Abe: desempleado y antiguo miembro de las fuerzas armadas\n",
      "Ucrania rinde homenaje a Boris Johnson\n",
      "La revolución conservadora del Supremo de Estados Unidos está lista para su segundo asalto\n",
      "Las voces de los niños de la guerra: “Los colegios se volvieron salas fúnebres”\n",
      "“Hay una parte de la verdad de Colombia que solo se puede conocer fuera de Colombia”\n",
      "Detenido en Brasil el presunto autor intelectual del asesinato de Dom Philips y Bruno Pereira en la Amazonia\n",
      "Kirchner acusa al ministro de Economía saliente de “desestabilización institucional”\n",
      "Detenido en Brasil el presunto autor intelectual del asesinato de Dom Philips y Bruno Pereira en la Amazonia\n",
      "Nadie frena la novena reelección de un eterno sindicalista argentino\n",
      "“Hay una parte de la verdad de Colombia que solo se puede conocer fuera de Colombia”\n",
      "Trump y Biden miden ya sus fuerzas para las elecciones de 2024\n",
      "Orgullo y resiliencia\n",
      "Guerra sucia contra Podemos\n",
      "Financiación autonómica: el avestruz y los populismos\n",
      "En el camino a Santiago\n",
      "‘Mi casa, mi árbol’\n",
      "Los escritores, la Europa de los derechos y el mercado único digital\n",
      "Operación salida… de los cuerpos amantes y gozosos\n",
      "Putin intentará estrangular a la UE\n",
      "De sumar, de restar y de Yolanda Díaz\n",
      "La vida sigue después del Bataclan\n",
      "Mi bebé ya entiende de política\n",
      "Un historiador\n",
      "El legado de Boris Johnson\n",
      "El Roto\n",
      "Peridis\n",
      "Flavita Banana\n",
      "Riki Blanco\n",
      "Sciammarella\n",
      "Planeta de Plástico, por Malagón\n",
      "Envía tu carta\n",
      "Médicos en España\n",
      "Lo raro es vivir\n",
      "Defender lo público\n",
      "En la calle circulan rumores\n",
      "Opinar sin insultar\n",
      "Contra el conflicto de intereses, transparencia\n",
      "El defensor del lector contesta\n",
      "Yolanda Díaz presenta Sumar como movimiento ciudadano que busca “un nuevo contrato social”\n",
      "Una jubilada, una sindicalista, un trabajador joven y otra de mayor edad: razones para Sumar\n",
      "Feijóo, en el homenaje a Miguel Ángel Blanco: “Prometo derogar la ley de memoria democrática”\n",
      "Ante la crisis, ¿gestionas o lideras?\n",
      "El almirante Cervera y el honor de España\n",
      "El Gran Retroceso\n",
      "Santa Bárbara y la cultura de la defensa\n",
      "¿Es posible disentir de esta retórica belicista?\n",
      "Irene Montero muestra el apoyo de Podemos a Sumar: “Yolanda es nuestra candidata” \n",
      "La entrada de agentes marroquíes en Melilla despierta dudas legales entre los expertos\n",
      "El Gobierno y la Generalitat  se comprometen a retomar el diálogo y “superar la judicialización”\n",
      "El juez cita como imputados a tres exjefes de ETA por el asesinato de Miguel Ángel Blanco\n",
      "Interior estudia incentivos a los guardias civiles de zonas rurales para evitar el cierre de cuarteles\n",
      "Marlaska elogia a Marruecos y su trabajo de “contención” de la inmigración tras la muerte de 23 subsaharianos en Melilla \n",
      "El Defensor del Pueblo abre una investigación sobre el incendio en la sierra de la Culebra\n",
      "Feijóo considera “discutible” dedicar dinero público a becas para familias de rentas altas como hace Ayuso\n",
      "Un juez archiva la causa contra el exmagistrado del Constitucional Fernando Valdés por supuesto maltrato \n",
      "La Audiencia justifica la salida del magistrado Delgado del juicio a Camps “para alejar cualquier sospecha de falta de imparcialidad”\n",
      "La Audiencia Provincial de Palma decide continuar con el juicio a Cursach tras desestimar buena parte de las peticiones de las defensas\n",
      "Un paraíso en el que avistar más de 20 especies de cetáceos\n",
      "El secreto de Fuerteventura se hace viral: la ‘playa de las palomitas’\n",
      "Un vino para triunfar entre los mileniales\n",
      "Artesanía y cultura que conquista a las ‘influencers’\n",
      "Más allá de la capital. El triunfo de la vida rural madrileña\n",
      "Jamie Dimon, el banquero más poderoso del mundo: “Los problemas económicos no son pasajeros. Las cosas pueden ir mucho peor”\n",
      "Elon Musk retira la oferta de compra por Twitter\n",
      "EE UU se consolida como primer proveedor de gas a España, en detrimento de Argelia\n",
      "Vecinos al borde de un ataque de nervios: morosos que usan la piscina, trasteros que son despensas y ruidos diarios\n",
      "Remite el riesgo de estanflación\n",
      "Bancos centrales, entre líneas\n",
      "Estado autonómico: Sobre las reformas pendientes\n",
      "Carlos Jiménez Villarejo: un hombre contra la desesperanza\n",
      "IPC: de la negación al riesgo de sobrerreacción\n",
      "Los españoles fueron los europeos que más pagaron por la luz entre enero y marzo\n",
      "José Antonio Ocampo: “Para crecer tenemos que trabajar mano a mano con las personas de altos ingresos, con los más ricos”\n",
      "CaixaBank advierte de que la subida de los intereses “aumenta el riesgo” ante burbujas inmobiliarias\n",
      "El ‘efecto Draghi’ pierde parte de su magia\n",
      "Así está la negociación sobre el pacto de rentas: un diagnóstico común, soluciones enfrentadas\n",
      "Remite el riesgo de estanflación\n",
      "El BCE cifra en 70.000 millones las pérdidas de la gran banca ante una crisis climática\n",
      "Ya se puede pedir el cheque ‘antinflación’ de 200 euros: ¿quién tiene derecho? ¿Dónde solicitarlo?\n",
      "Las constructoras acusan a la CNMC de “falta de rigor” por la macromulta de 204 millones\n",
      "Francisco González pide volver a declarar como imputado en el ‘caso Villarejo’\n",
      "Uniper, la mayor gasista alemana, pide el rescate asfixiada por los recortes del gas ruso\n",
      "La carrera por las oposiciones ha empezado: en juego hay 45.000 trabajos para toda la vida\n",
      "Los jueces se ponen de parte de las víctimas de ‘phishing’ bancario\n",
      "Texas es la nueva China para  Elon Musk\n",
      "IPC: de la negación al riesgo de sobrerreacción\n",
      "A Unilever se le indigesta el helado \n",
      "El mercado de la vivienda ante la subida de tipos\n",
      "Los hogares frenan su gasto en transporte y ocio y aumentan el de los alimentos\n",
      "\n",
      "Arnaud Ribault (Citroën): “Los concesionarios de la marca no están enfadados con el cambio de contrato”\n",
      "¿Qué pasa con las obras de arte que nadie quiere comprar?\n",
      "No se puede desheredar a un familiar con el que no se tiene relación, según el Supremo\n",
      "Líos en la piscina comunitaria: normas y sentencias para un chapuzón seguro\n",
      "Parir en casa, educarlo por mi cuenta… ¿Qué puedo decidir sobre mi hijo y qué no?\n",
      "Música que transforma vidas y esboza futuros\n",
      "El futuro probable de una sociedad insostenible\n",
      "Francisco Javier Blasco: “Llevamos años sin mejorar la eficacia de las políticas activas de empleo”\n",
      "La hora del bienestar corporativo\n",
      "Cancerberos del bienestar de la empresa\n",
      "Cómo garantizar la seguridad en un mundo de amenazas híbridas\n",
      "¿Cuáles son los dilemas éticos del uso de la inteligencia artificial?\n",
      "Las aventuras de un par de calcetines que dan empleo a todo un pueblo\n",
      "Cultura financiera como punto de partida para volver a empezar\n",
      "¿Puede convertirse España en una de las potencias logísticas del futuro?\n",
      "Por qué digitalizar una pyme aporta más empleo\n",
      "‘Coopetir’: la actitud DFactory\n",
      "Así serán las ciudades de la (nueva) última milla\n",
      "Cinco errores habituales al digitalizar un negocio \n",
      "PERTE Agroalimentario: ¿cómo acceder a los fondos europeos?\n",
      "Fondos soberanos: ¿Cómo funcionan las cajas fuertes de los estados más ricos?\n",
      "¿Crisis de deuda mundial a la vista?\n",
      "El método Muñoz para triunfar en cada reto que se propone\n",
      "Gloria Ramos, cuando el afán de superación acaba en la alfombra roja \n",
      "Ocho ‘startups’ innovadoras con nombre propio\n",
      "Hotmart y su plataforma 360 para creadores de contenidos\n",
      "Ángel Gabilondo, sobre su investigación de la pederastia: “Hay gente trabajando activamente para que esto no salga adelante”\n",
      "Radiografía de la séptima ola de covid: el virus comienza a perder impulso\n",
      "Mônica Benício: “Quiero que Lula sea presidente, pero quiero que haga políticas feministas y para la población LGTBI”\n",
      "El control del cuerpo de las mujeres\n",
      "No se gobierna con el catecismo romano\n",
      "Un día muy triste para todas las mujeres\n",
      "El Supremo de Estados Unidos destruye un derecho fundamental de las mujeres\n",
      "Un paso atrás, dos adelante: el avance de los derechos LGTBI en la antigua Yugoslavia\n",
      "El responsable LGTBI del PSOE celebra que Sánchez apartase a Calvo por su oposición a la ‘ley trans’\n",
      "Biden reacciona a las críticas sobre su inacción con un decreto para proteger el aborto\n",
      "El Papa asegura que el camino que ha seguido la Iglesia contra la pederastia “es irreversible”\n",
      "La sobrexplotación amenaza a las especies silvestres de las que dependen miles de millones de personas en el mundo\n",
      "Los ricos esperan menos para operarse, también en los hospitales públicos\n",
      "El 60% de los universitarios no se ve preparado para un mercado laboral que no encuentra los perfiles necesarios  \n",
      "El Constitucional declara por primera vez que toda discriminación de las personas trans es ilegal\n",
      "La ministra de Ciencia e Innovación: “El gran peligro es el negacionismo climático”\n",
      "Las emisiones de efecto invernadero volvieron a crecer en 2021 en España aunque sin sobrepasar los niveles previos a la pandemia\n",
      "¿Existe brecha generacional en el colectivo LGTBI? De la lucha por los derechos al debate identitario\n",
      "Se buscan profesionales en economía circular\n",
      "La economía circular llega a la ciudad. Te contamos dónde se encuentra \n",
      "¿Por qué hablar de VIH en el Orgullo y no en los sanfermines?\n",
      "Mitos, falsedades, bulos y realidades sobre el VIH 40 años después\n",
      "Qué son las evidencias científicas y por qué están revolucionando la educación\n",
      "Munic, el joven redimido por el trap\n",
      "El tremendo peso de la obesidad en España\n",
      "Interactivo | Los 14 cambios en los aeropuertos españoles que no ves y que ya están ocurriendo\n",
      "Encontrar empleo pese a los obstáculos. Por dónde empezar la búsqueda\n",
      "La fórmula de Carboneros para evitar el éxodo rural: trabajar cuidando a los vecinos \n",
      "Consejos y cuidados para el primer verano con un gatito o un perrito\n",
      "¿Qué tienen en común perros y gatos cuando son cachorros?\n",
      "La guía definitiva para alimentarnos mejor (y cuidar nuestra salud y la del planeta)\n",
      "El metro como refugio. De los andenes de Madrid en 1936 a los de Kiev en 2022\n",
      "La salud mental de los refugiados: cómo abrirse para cerrar las heridas\n",
      "Yogures con menos azúcar, paso firme hacia la alimentación infantil del futuro\n",
      "Conectada con el mercado laboral y tecnológica: así es la universidad del presente\n",
      "Así es la formación más abierta y flexible, a prueba de crisis\n"
     ]
    },
    {
     "name": "stdout",
     "output_type": "stream",
     "text": [
      "El 60% del dinero destinado a becas educativas en Madrid será para los centros privados\n",
      "El 60% de los universitarios no se ve preparado para un mercado laboral que no encuentra los perfiles necesarios  \n",
      "¿Cómo se cierra un colegio público?\n",
      "¿Hay que obligar a los niños a hacer deberes en verano? Los expertos recomiendan actividades que no se parezcan a las tareas escolares\n",
      "Los sindicatos educativos catalanes convocan huelga el 7 de septiembre, primer día de curso en los institutos, y el 28\n",
      "El caso de Georgia, en EE UU: becar sin importar la renta agranda la desigualdad\n",
      "Madrid, el paraíso de la educación privada: en la capital son minoría los alumnos de la pública\n",
      "Trabajar en el ‘big data’: “Nunca he tenido que echar currículum, las ofertas me han llegado solas”\n",
      "El Gobierno lanza una ofensiva contra las becas para rentas altas de Ayuso que Feijóo respalda\n",
      "José Manuel Bar, secretario de Estado de Educación: “Los docentes de secundaria deben empezar a estudiar pedagogía en su carrera”\n",
      "Ayuso se apunta ahora el tanto de la bajada de tasas universitarias, pese a que las llevó a los tribunales para no reducirlas\n",
      "Sin currículos\n",
      "La escuela concertada ante las desigualdades: el debate pendiente\n",
      "La equidad frente a las políticas educativas de privatización en Andalucía\n",
      "No hay lunes al sol en la Universidad\n",
      "El nuevo sistema para evaluar los conocimientos digitales de los profesores valdrá en toda España\n",
      "Ofrecer comedor gratis en todos los colegios públicos es “alcanzable y urgente”: costaría 1.664 millones al año, según la ONG Educo  \n",
      "Una fórmula para que la escuela pública compita mejor con la concertada\n",
      "La pérdida de alumnos por el descenso de la natalidad está afectando con más fuerza a la escuela pública que a la concertada\n",
      "El caso de Georgia, en EE UU: becar sin importar la renta agranda la desigualdad\n",
      "El techo de cristal del grado medio de FP: candidatos demasiado preparados se quedan con los puestos\n",
      "La implantación del nuevo Bachillerato general fracasa pese a su demanda potencial: “Creímos que lo pedirían seis alumnos y lo han hecho 27”\n",
      "Toni Solano, director de instituto: “Veo mal a los niños, necesitan muchísima ayuda”\n",
      "Niños, Administraciones y redes sociales: prohibir su uso con una mano y enseñar a crear contenidos con la otra\n",
      "Una historia en la que caben Alaska, García Lorca, Suárez y Popper: la Universidad Internacional Menéndez Pelayo cumple 90 años \n",
      "Subirats reinterpreta la ley de Universidades: freno a la precariedad, facilidades para los alumnos extranjeros y ciencia abierta\n",
      "Las universitarias desertan del grado de Matemáticas ahora que tiene pleno empleo. ¿Por qué?\n",
      "Golpe a la temporalidad en las universidades: 25.000 profesores asociados serán indefinidos a tiempo parcial\n",
      "“No hay pensamiento sin tiempo para pensar”\n",
      "“En el hospital, la enseñanza es una medicina más”\n",
      "Un alegato por la paz y la cultura\n",
      "La sobrexplotación amenaza a las especies silvestres de las que dependen miles de millones de personas en el mundo\n",
      "Segunda ola calor del verano: al menos cuatro días con máximas de hasta 46° y noches tórridas a más de 25°\n",
      "La emergencia climática llama a la puerta del mundo\n",
      "Las emisiones de efecto invernadero volvieron a crecer en 2021 en España aunque sin sobrepasar los niveles previos a la pandemia\n",
      "Jornada del foro Ecosistema Ahora, organizado por EL PAÍS, en imágenes\n",
      "La oceanógrafa y buceadora Gádor Muntaner: “Lo que más miedo me da es nadar en un mar sin tiburones”\n",
      "Los rinocerontes regresan a Mozambique 40 años después de su desaparición\n",
      "Carlos Nobre: “La Amazonia  ya muestra síntomas  de muerte”\n",
      "El Parlamento Europeo respalda el sello verde de la UE al gas y energía nuclear\n",
      "Un alud letal y una histórica sequía: el cambio climático castiga al norte de Italia\n",
      "Un año de espera por la bicicleta: el estallido de la demanda coincide con la escasez de suministro\n",
      "Un plan de retirada  \n",
      "Crisis energética y precios del carbono\n",
      "La lección del martín pescador para afrontar la crisis ecológica\n",
      "Estocolmo+50: mirar atrás para tomar impulso\n",
      "Ríos imposibles: las 171.000 barreras que rompen el curso de agua en España\n",
      "La UE abraza las renovables para romper la dependencia de Rusia\n",
      "La lucha en un pueblo de Teruel para salvar su última montaña\n",
      "¿Qué aire respiran los niños de Madrid y Barcelona? En el 46% de los colegios se supera la contaminación permitida\n",
      "“No hay pensamiento sin tiempo para pensar”\n",
      "“En el hospital, la enseñanza es una medicina más”\n",
      "Un alegato por la paz y la cultura\n",
      "Mar Castellanos, neuróloga: “El ictus afecta cada vez más a personas en edad laboral. Las enfermedades cardiovasculares son una epidemia”\n",
      "¿Es la consciencia una ilusión intrascendente?\n",
      "Óvulos que se agotan y declive del esperma: todo lo que ignoramos sobre fertilidad hasta el momento de querer hijos\n",
      "Hallada en Atapuerca la cara del humano más antiguo de Europa\n",
      "El humano más antiguo de Europa: prehistoria que hace historia\n",
      "Rosaly Lopes, la persona que más volcanes ha descubierto: “Puede haber vida en Titán” \n",
      "Una cena conflictiva\n",
      "‘Meraxes gigas’: descubierta en la Patagonia argentina una nueva especie de dinosaurio carnívoro gigante\n",
      "La cola vestigial, el apéndice oculto del hombre que venció a Napoleón en Waterloo\n",
      "La agenda de la NASA para volver a la Luna (y quedarse)\n",
      "El sector biotecnológico supera las cifras de 2020 y capta 180 millones de euros de inversión privada\n",
      "“La identidad de género no se elige, como prueba el fracaso de las terapias de conversión”\n",
      "Un novedoso estudio sobre estrés adolescente propone un nuevo método para afrontarlo: optimizarlo en lugar de evitarlo\n",
      "Las mentes humanas detrás de las mentes artificiales\n",
      "El cerebro está más caliente de lo que se pensaba \n",
      "Cangrejos ermitaños: el arte de seleccionar la mejor concha\n",
      "¿Dónde hay civilizaciones extraterrestres?\n",
      "Las mentes humanas detrás de las mentes artificiales\n",
      "Matemáticas para describir los remolinos, los taxis del océano\n",
      "Reaparece la tesis de María Wonenburger, la pionera matemática española que permaneció décadas en el olvido\n",
      "Técnicas criptográficas que se fundamentan en lo impredecible\n",
      "Alrededor de la mesa\n",
      "Fracciones egipcias\n",
      "El problema del huerto\n",
      "La cola vestigial, el apéndice oculto del hombre que venció a Napoleón en Waterloo\n",
      "Molinos y gigantes, adelantos tecnológicos y el síndrome bicicleta\n",
      "El síndrome del hombre lobo y la realidad lógica de su fábula\n",
      "La locura como juego; más allá del Quijote y de las novelas de Pérez Galdós\n",
      "El andar del borracho, las huellas del azar y el juego de dados en algunos libros malditos\n",
      "¿Son mejores las hormonas bioidénticas?\n",
      "¿Qué surgió antes, el ARN o el ADN?\n",
      "¿Por qué se sabe que los núcleos de la Tierra rotan?\n",
      "¿Qué son los mini reactores nucleares?\n",
      "Invitados indeseables por Navidad: el muérdago y otras plagas que evitar durante las fiestas\n",
      "Las ‘apps’ nutricionales o cómo comer bien no debería depender de uno mismo\n",
      "Malnutrición invisible: el impacto de la pobreza en la salud infantil\n",
      "El óxido de etileno, la sustancia cancerígena que ha obligado a retirar miles de alimentos en la UE\n",
      "Que no te líen con los ingredientes: aceites y grasas de mala calidad nutricional\n",
      "Muse monta un circo en Mad Cool y Uber irrita con sus precios \n",
      "The Killers y Stromae triunfan en una noche marcada por la música electrónica y bailable en el Bilbao BBK Live\n",
      "Muere a los 79 años Tony Sirico, Paulie en ‘Los Soprano’\n",
      "Cartografía de las desventuras húmedas\n",
      "Lo que debemos a Patxo Unzueta\n",
      "La huida\n",
      "Un siglo de canciones, 1.500 artistas\n",
      "La juerga veraniega de Rigoberta Bandini en el festival Cruïlla\n",
      "El festival de Aviñón arranca con un ‘chéjov’ turbulento dirigido por un disidente de Putin\n",
      "La banalidad del drama: la literatura que surge de los grandes juicios históricos\n",
      "Alivio para el arte conceptual: la justicia francesa considera que el autor de una obra es el artista que la concibe y no el que la ejecuta\n",
      "¿Cómo es un festival intergeneracional en 2022?\n",
      "‘Thor: Love and Thunder’, cuarta aventura individual del superhéroe de Marvel, y otros estrenos de este fin de semana\n",
      "El cine de propaganda nunca ha desaparecido: ahora se lanzan a él chinos y rusos\n",
      "Apoteosis de The Killers en Mad Cool ante 70.000 personas\n",
      "#Brahms125 aporta pasión y consuelo en las cálidas noches granadinas\n",
      "La Comunidad de Madrid retira una obra de Paco Bezerra prevista por los Teatros del Canal alegando razones económicas\n",
      "Estopa, Creu de Sant Jordi desde la periferia de la periferia\n",
      "‘Mali Twist’: Y el rock también llegó a Malí\n",
      "Muere el actor James Caan, célebre por encarnar a Sonny Corleone en ‘El padrino’, a los 82 años\n",
      "Cuándo un gallego te dice que sí, aunque esté pensando que no. La retranca gallega y otros misterios que descubrir en el Camino Inglés\n",
      "El último atardecer de Europa se ve solo desde este lugar. Un viaje hacia el infinito por el Camino de Fisterra-Muxía\n",
      "Lorca, en la ciudad al margen\n",
      "El Pirineo oscense, para entrar a vivir\n",
      "Toda la lectura del verano, en el bolsillo\n",
      "Longsellers: los libros más vendidos a lo largo de la historia\n",
      "Libros para descubrir el mundo recomendados por Benjamín Prado\n",
      "Encuentro virtual con la cantante Carla Morrison\n",
      "Ciclo MET VERANO con Cine Yelmo\n",
      "'KLIMT. La experiencia inmersiva'\n",
      "'Padre no hay más que uno 3'\n",
      "Tan guapos como imposibles\n",
      "El tercer encierro de San Fermín 2022, en imágenes\n",
      "Dos heridos por cornada en un multitudinario y vistoso tercer encierro de San Fermín con los toros de Escolar\n",
      "Más allá del frenesí de los sanfermines\n"
     ]
    },
    {
     "name": "stdout",
     "output_type": "stream",
     "text": [
      "Tristes, drogados, periféricos: la nueva literatura que refleja el dolor de los polígonos\n",
      "La fuga de Siberia de Trotsky, la revelación de Marta D. Riezu y otros libros de la semana\n",
      "El desvío experimental de Perfume Genius, los salmos de Nick Cave y otros discos del mes\n",
      "Jardines secretos en la jungla de asfalto: cómo resistir a la especulación plantando un árbol\n",
      "Los nuevos diaristas son vendedores de vidas\n",
      "La ‘Safo’ de Christina Rosenvinge no convence\n",
      "La gran música eleva a una compañía de danza inmadura\n",
      "Trampantojo: De veraneo\n",
      "‘Agua y jabón’: más que un libro, una constelación de genialidades\n",
      "Ayn Rand, ‘rednecks’ e inclusividad forzada: el mundo virtual como escenario político\n",
      "Hay un río de oro negro bajo A Coruña\n",
      "Un clavo quita otro, quizás\n",
      "Músicas ocultas\n",
      "Lo que siento (no se olviden de Ucrania) \n",
      "No eran marcianos, eran humanos\n",
      "‘La máquina de proyectar sueños’, un retorno a la infancia delicioso y temible\n",
      "‘Veinte años de Sol’ o cómo olvidar el pasado con un implante en el cerebro\n",
      "‘La fuga de Siberia en un trineo de renos’, de Trotsky: aventuras de un comunista en plena huida \n",
      "‘Magallanes & Co.’, los preparativos y aventuras de la primera vuelta al mundo\n",
      "Silvia Agüero: “De no ser escritora habría sido vendedora ambulante”\n",
      "Antoni Muntadas: “Supe que me dedicaría al arte cuando dejé de pintar”\n",
      "Manuel Estrada: “Me agrada que una portada guste más después de leer el libro”\n",
      "Óscar Esquivias: “No hace falta ser creyente para leer la Biblia”\n",
      "Amelia Castilla: “Los ritos nos ayudan a hacer viable el trance de la muerte”\n",
      "Rybakina triunfa y cuela a Rusia en Wimbledon\n",
      "Serena a un lado, la rueda gira y gira\n",
      "El Tour de Francia de Van Aert y Pogacar\n",
      "¿Por qué es infinito?\n",
      "La Superliga, una oportunidad única para la Unión Europea\n",
      "¿Por qué me gusta el fútbol? \n",
      "Rafael no concibe abandonar\n",
      "Verstappen no da opción a Ferrari y se lleva la ‘pole’ en Austria  \n",
      "Rybakina, el rastro ‘ruso’ en Wimbledon\n",
      "Rumbo a Kyrgios, un Djokovic de récord\n",
      "Sandra Sánchez, el oro y las lágrimas del adiós al kárate\n",
      "El 9 de julio el Tour de Francia celebra San Federico Martín Bahamontes \n",
      "España debuta con cabeza en la Eurocopa\n",
      "Hugo Koblet, el James Dean del ciclismo\n",
      "Annemiek Van Vleuten, número uno del ciclismo femenino mundial: “Es difícil decir adiós”\n",
      "Guélfand, de 54 años, noquea a Yesipenko, de 20, con brío y brillo en el Magistral de León\n",
      "La lesión de Alexia Putellas: las roturas del ligamento cruzado anterior son tres veces más frecuentes en mujeres \n",
      "Cielo e infierno de Nadal, entre dos mundos\n",
      "Mapi León: “Se demostró que el fútbol femenino solo había que saber venderlo”\n",
      "Así tuvo que cambiar Nadal su saque para aguantar el dolor en Wimbledon\n",
      "“Si no tenemos en quién mirarnos es muy difícil saber qué queremos ser”\n",
      "“Nunca acepto un no por respuesta”\n",
      "La nadadora que dejó de competir para hacer campeones de básquet\n",
      "Crónica de dos ciudades moldeadas por la misma pasión \n",
      "Así tuvo que cambiar Nadal su saque para aguantar el dolor en Wimbledon\n",
      "La lesión de Alexia Putellas: las roturas del ligamento cruzado anterior son tres veces más frecuentes en mujeres \n",
      "Joseph Blatter y Michel Platini, absueltos de los cargos de corrupción por un tribunal suizo\n",
      "Dos glorias activas frente a dos jóvenes pujantes en el XXXV Magistral Ciudad de León\n",
      "¿Por qué me gusta el fútbol? \n",
      "La Superliga, una oportunidad única para la Unión Europea\n",
      "Rafael no concibe abandonar\n",
      "El deporte se complica para las mujeres trans\n",
      "Las activistas que dejaron sin anuncios a la web de Steve Bannon van ahora a por Fox News\n",
      "“¿Quieres cobrar tu salario en streaming?” Por qué los proyectos cripto son tan difíciles de entender\n",
      "El misterio de la carta del soldado alemán\n",
      "El porqué de los desafíos criptográficos: conocerte a ti mismo, conocer a tu enemigo\n",
      "Con el relax del verano se acentúan los peligros cibernéticos: así puede protegerse durante las vacaciones\n",
      "Meta presenta un traductor capaz de operar en tiempo real con 200 idiomas\n",
      "“Soy catedrático de informática. Como mis colegas, sé que la tecnología de bitcoin es basura”\n",
      "El sector biotecnológico supera las cifras de 2020 y capta 180 millones de euros de inversión privada\n",
      "Las mentes humanas detrás de las mentes artificiales\n",
      "El juego de la técnica\n",
      "Daniel Innerarity: “Los algoritmos son conservadores y nuestra libertad depende de que nos dejen ser imprevisibles”\n",
      "Regina Barzilay: “Tenemos que aprender a vivir en un mundo en el que la tecnología toma decisiones que no podemos supervisar”\n",
      "Herramientas y trucos para recordar la ubicación del coche gracias al móvil\n",
      "Las tres amigas que quieren revolucionar los materiales de construcción con fibras de hongos\n",
      "El Constitucional afianza el derecho al olvido en internet\n",
      "En defensa de la procrastinación. Elogio del tiempo perdido (frente al que las redes te roban)\n",
      "Instagram, el mejor de los mundos posibles\n",
      "Del terrorismo youtuber al influencer rabioso: el odio inunda la red\n",
      "Cronodiversidad. ¿Por qué el tiempo cada vez va más rápido?\n",
      "El impacto de la tecnología en la hostelería: de la comanda digital al pago con código QR\n",
      "Herramientas que ayudan a crecer a las empresas (más allá de los pagos)\n",
      "Cinco razones por las que este ‘smartphone’ es sencillamente tentador\n",
      "La cámara de este ‘smartphone’ es pura magia\n",
      "Por qué los nuevos coches ya no los diseñarán las personas\n",
      "Una catapulta para el talento de ‘kilómetro cero’\n",
      "Las activistas que dejaron sin anuncios a la web de Steve Bannon van ahora a por Fox News\n",
      "“¿Quieres cobrar tu salario en streaming?” Por qué los proyectos cripto son tan difíciles de entender\n",
      "El misterio de la carta del soldado alemán\n",
      "El porqué de los desafíos criptográficos: conocerte a ti mismo, conocer a tu enemigo\n",
      "Con el relax del verano se acentúan los peligros cibernéticos: así puede protegerse durante las vacaciones\n",
      "Meta presenta un traductor capaz de operar en tiempo real con 200 idiomas\n",
      "“Soy catedrático de informática. Como mis colegas, sé que la tecnología de bitcoin es basura”\n",
      "El sector biotecnológico supera las cifras de 2020 y capta 180 millones de euros de inversión privada\n",
      "Las mentes humanas detrás de las mentes artificiales\n",
      "El juego de la técnica\n",
      "Daniel Innerarity: “Los algoritmos son conservadores y nuestra libertad depende de que nos dejen ser imprevisibles”\n",
      "Regina Barzilay: “Tenemos que aprender a vivir en un mundo en el que la tecnología toma decisiones que no podemos supervisar”\n",
      "Herramientas y trucos para recordar la ubicación del coche gracias al móvil\n",
      "Las tres amigas que quieren revolucionar los materiales de construcción con fibras de hongos\n",
      "El Constitucional afianza el derecho al olvido en internet\n",
      "En defensa de la procrastinación. Elogio del tiempo perdido (frente al que las redes te roban)\n",
      "Instagram, el mejor de los mundos posibles\n",
      "Del terrorismo youtuber al influencer rabioso: el odio inunda la red\n",
      "Cronodiversidad. ¿Por qué el tiempo cada vez va más rápido?\n",
      "El impacto de la tecnología en la hostelería: de la comanda digital al pago con código QR\n",
      "Herramientas que ayudan a crecer a las empresas (más allá de los pagos)\n",
      "Cinco razones por las que este ‘smartphone’ es sencillamente tentador\n",
      "La cámara de este ‘smartphone’ es pura magia\n",
      "Por qué los nuevos coches ya no los diseñarán las personas\n",
      "Una catapulta para el talento de ‘kilómetro cero’\n",
      "El Baile de la Rosa vuelve a llenar Mónaco de glamur y famosos tras dos años de parón\n",
      "¿Quién es quién en la familia real de Mónaco? Un repaso a los Grimaldi por el Baile de la Rosa\n",
      "La cumbre de la alpargata\n",
      "El arbusto sauzgatillo, anafrodisiaco en la Antigua Grecia y regulador hormonal en la actualidad \n",
      "Steven Meisel será el segundo fotógrafo al que Marta Ortega homenajea en A Coruña\n",
      "Elon Musk, sobre sus 10 hijos: “Estoy haciendo todo lo posible para ayudar con la crisis de despoblación” \n",
      "Juana Martín, primera mujer española “y gitana” en la alta costura de París, tras su desfile: “Me he dejado la piel”\n",
      "En verano, el mejor queso del mundo se hace helado\n",
      "El espectáculo (teatral) debe continuar en la alta costura de París\n",
      "Elon Musk tuvo gemelos en secreto con una ejecutiva de una de sus empresas\n",
      "Por qué es importante conocer tu personalidad erótica para tener una vida sexual más satisfactoria\n",
      "Realismo, entretenimiento y democracia: la alta costura se deshace por fin de sus estereotipos en París\n",
      "Matthew Bronfman, el ‘príncipe’ de Wall Street y heredero de un imperio licorero que se ha reunido con el rey Felipe VI\n",
      "Realismo, entretenimiento y democracia: la alta costura se deshace por fin de sus estereotipos en París\n",
      "Nostalgia ‘retro’, punto multicolor y otras pistas para vestir este verano\n",
      "La dictadura de la perfección, misoginia y Jeffrey Epstein: los ángeles y demonios de Victoria’s Secret\n",
      "Dios y diamantes: lo que Kendrick Lamar nos quiso decir a través de su corona de espinas\n",
      "Entre Sevilla, Ascot, el pasado y el futuro: Mans condensa su universo en una colección sin miedo a los contrastes\n",
      "En verano, el mejor queso del mundo se hace helado\n",
      "El placer de lo rancio y otros gustos y aromas que recuerdan la niñez\n",
      "Trece aperitivos\n",
      "La rebelión de las cocineras de España: “Hay mujeres, falta reconocimiento”\n"
     ]
    },
    {
     "name": "stdout",
     "output_type": "stream",
     "text": [
      "Carlos Fernández: “Netflix quiere ser de mayor una televisión en abierto, pero de pago” \n",
      "Muere a los 79 años Tony Sirico, Paulie en ‘Los Soprano’\n",
      "‘Encerrado con el diablo’: Dennis Lehane busca en el fondo del alma humana\n",
      "Menos mal que quedan los libros\n",
      "Stephen King adora ‘Stranger Things’ y viceversa\n",
      "Sanfermines: maltrato animal en riguroso directo\n",
      "‘La ciudad es nuestra’ o la corrupción policial\n",
      "‘La noche más larga’ y ‘La lista final’: palomitas sin sabor para el verano\n",
      "Los dilemas de ‘La firma de Dios’: ¿y si el virus detrás de una pandemia tuviera conciencia y voluntad propia?\n",
      "Arturo Valls pasa de presentador a recluso por rebasar los límites del humor en ‘Dos años y un día’\n",
      "Entre novedades y apuestas de bajo riesgo: así es el verano en la televisión en abierto\n",
      "Vivir y morir en Colombia, ciencia desmitificada, un nuevo lugar del crimen y adictos a la cultura pop, entre los ‘podcasts’ de julio\n",
      "Promover el turismo en tiempos de nueva normalidad, pero con vieja publicidad\n",
      "Podium Podcast estrena web con más de 400 contenidos y nuevo diseño\n",
      "EGM 2022: La SER cierra temporada de nuevo como la radio más escuchada\n",
      "¿Quién demonios votó a Podemos en La Moraleja?\n",
      "La televisión también quiere ser verde: cómo ‘Servir y proteger’ disminuyó la contaminación en su rodaje\n",
      "¿Qué ver hoy en TV? Sábado 9 de julio de 2022\n",
      "Nueve capítulos para recordar ‘The Wire’ en su 20º aniversario\n",
      "Harry Palmer: el tercer vértice del mágico triángulo de espías británicos\n",
      "Las series de junio de 2022: ‘The Boys’ en Amazon Prime Video; ‘Peaky Blinders’ en Netflix y otras\n",
      "La fuerza acompaña a ‘Obi-Wan Kenobi’, una serie deslumbrante\n",
      "Orgullo con todas las letras\n",
      "Pietro Beccari: “El desfile de Sevilla es uno de los mejores, si no el mejor, que ha hecho Maria Grazia Chiuri en Dior”\n",
      "Las heridas abiertas de la infancia en Irak\n",
      "La cocinera que trasladó las flores del jarrón al plato\n",
      "¿Dónde está exactamente el origen del mal?\n",
      "El hombre que persigue la gaita más antigua del mundo\n",
      "El golazo literario de Roberto Santiago con ‘Los futbolísimos’\n",
      "La uva más denostada de  Castilla-La Mancha resurge de sus cenizas\n",
      "La rebelión de las cocineras de España: “Hay mujeres, falta reconocimiento”\n",
      "En busca de la huella de Camarón de la Isla, leyenda viva del flamenco\n",
      "Oliviero Toscani: “El fascismo resulta muy cómodo porque no te exige razonar”\n",
      "República Dominicana, donde la vida fluye por el río infinito\n",
      "El placer de lo rancio y otros gustos y aromas que recuerdan la niñez\n",
      "Los 10 coches que menos consumen en 2022\n",
      "El engaño a los ojos\n",
      "Reír a lágrima viva\n",
      "El cuerpo\n",
      "Cuento de Catherine del Biombo 5\n",
      "Harina enriquecida para acabar con el “hambre oculta”\n",
      "Lugares de esperanza para salvar los océanos\n",
      "Los guardianes del clima que llevan medio siglo leyendo las advertencias de los glaciares\n",
      "Epidemia de violencia: claves del negocio de las armas en Estados Unidos\n",
      "Los ejecutivos voladores y la ética medioambiental\n",
      "Ibiza, entre la noche desenfrenada y el turismo tranquilo \n",
      "Luz Casal: “Tengo el alma rockera. Nada ha doblegado mi rebeldía”\n",
      "Rashid Johnson: “Los pensadores y creadores negros estamos cansados de que nos nieguen un espacio autónomo”\n",
      "Sergio Hernández: “En el mundo, la gente ya no quiere verdades, quiere mentiras”\n",
      "Elvira Sastre: “No hay que perdonarlo todo”\n",
      "La trinidad del taco perfecto: “Buena tortilla, delicioso relleno y una salsa sabrosa”\n",
      "La casa de Nina Urgell Cloquell, un piso en el que las paredes hablan\n",
      "Garbanzos verdes y puchero\n",
      "Bikôkô y Julio Peña, dos estrellas en ebullición  \n",
      "Cuando Chufy encontró a Rossy: dos amigas, una isla y una colección de moda\n",
      "Retrato Robot \n",
      "Ilusiones hipnóticas\n",
      "El poder del hormigón\n",
      "Maulévrier, Japón a la francesa\n",
      "‘Fantasías en el Prado’, por Alberto García-Alix\n",
      "\u001b[1m\u001b[34mA continuación se muestran los titulares de las páginas principales del diario El País que contienen las siguientes palabras:\u001b[0m\n",
      "\u001b[1m\u001b[32mFeminismo\u001b[0m\n",
      "Americanas: Reportajes y noticias sobre feminismo e historias con enfoque de género de la región\n",
      "\u001b[1m\u001b[32mIgualdad\u001b[0m\n",
      "El caso de Georgia, en EE UU: becar sin importar la renta agranda la desigualdad\n",
      "La escuela concertada ante las desigualdades: el debate pendiente\n",
      "El caso de Georgia, en EE UU: becar sin importar la renta agranda la desigualdad\n",
      "\u001b[1m\u001b[32mMujeres\u001b[0m\n",
      "La falta de presupuesto ahoga a los refugios para mujeres víctimas de violencia en México\n",
      "El Panamá indígena busca empoderar a sus mujeres\n",
      "El control del cuerpo de las mujeres\n",
      "Un día muy triste para todas las mujeres\n",
      "El Supremo de Estados Unidos destruye un derecho fundamental de las mujeres\n",
      "La lesión de Alexia Putellas: las roturas del ligamento cruzado anterior son tres veces más frecuentes en mujeres \n",
      "La lesión de Alexia Putellas: las roturas del ligamento cruzado anterior son tres veces más frecuentes en mujeres \n",
      "El deporte se complica para las mujeres trans\n",
      "La rebelión de las cocineras de España: “Hay mujeres, falta reconocimiento”\n",
      "La rebelión de las cocineras de España: “Hay mujeres, falta reconocimiento”\n",
      "\u001b[1m\u001b[32mMujer\u001b[0m\n",
      "Condenada una mujer a 43 años de cárcel por defenderse de su agresor en México\n",
      "La falta de presupuesto ahoga a los refugios para mujeres víctimas de violencia en México\n",
      "El Panamá indígena busca empoderar a sus mujeres\n",
      "El control del cuerpo de las mujeres\n",
      "Un día muy triste para todas las mujeres\n",
      "El Supremo de Estados Unidos destruye un derecho fundamental de las mujeres\n",
      "La lesión de Alexia Putellas: las roturas del ligamento cruzado anterior son tres veces más frecuentes en mujeres \n",
      "La lesión de Alexia Putellas: las roturas del ligamento cruzado anterior son tres veces más frecuentes en mujeres \n",
      "El deporte se complica para las mujeres trans\n",
      "Juana Martín, primera mujer española “y gitana” en la alta costura de París, tras su desfile: “Me he dejado la piel”\n",
      "La rebelión de las cocineras de España: “Hay mujeres, falta reconocimiento”\n",
      "La rebelión de las cocineras de España: “Hay mujeres, falta reconocimiento”\n",
      "\u001b[1m\u001b[32mBrecha salarial\u001b[0m\n",
      "\n",
      "\u001b[1m\u001b[32mMachismo\u001b[0m\n",
      "\n",
      "\u001b[1m\u001b[32mViolencia\u001b[0m\n",
      "La falta de presupuesto ahoga a los refugios para mujeres víctimas de violencia en México\n",
      "Epidemia de violencia: claves del negocio de las armas en Estados Unidos\n",
      "\u001b[1m\u001b[32mMaltrato\u001b[0m\n",
      "Un juez archiva la causa contra el exmagistrado del Constitucional Fernando Valdés por supuesto maltrato \n",
      "Sanfermines: maltrato animal en riguroso directo\n",
      "\u001b[1m\u001b[32mHomicidio\u001b[0m\n",
      "\n",
      "\u001b[1m\u001b[32mGénero\u001b[0m\n",
      "Los militares de Canadá se abren a un código más inclusivo: tatuajes en el rostro y uniformes sin distinción de género \n",
      "Americanas: Reportajes y noticias sobre feminismo e historias con enfoque de género de la región\n",
      "“La identidad de género no se elige, como prueba el fracaso de las terapias de conversión”\n",
      "\u001b[1m\u001b[32mAsesinato\u001b[0m\n",
      "Especial | Secuestro y asesinato de Miguel Ángel Blanco: cuando ETA perdió la calle\n",
      "El detenido por el asesinato: desempleado y antiguo miembro de las fuerzas armadas\n",
      "Haití, sin presidente y sin Estado un año después del asesinato de Jovenel Moïse\n",
      "Detenido en Brasil el presunto autor intelectual del asesinato de Dom Philips y Bruno Pereira en la Amazonia\n",
      "Detenido en Brasil el presunto autor intelectual del asesinato de Dom Philips y Bruno Pereira en la Amazonia\n",
      "El juez cita como imputados a tres exjefes de ETA por el asesinato de Miguel Ángel Blanco\n",
      "\u001b[1m\u001b[32mSexo\u001b[0m\n",
      "\n"
     ]
    }
   ],
   "source": [
    "import requests\n",
    "import time\n",
    "import csv\n",
    "import re\n",
    "from bs4 import BeautifulSoup\n",
    "import os\n",
    "import pandas as pd\n",
    "from termcolor import colored\n",
    "\n",
    "resultados = []\n",
    "\n",
    "req = requests.get(\"https://resultados.elpais.com\")\n",
    "# Si el estatus code no es 200 no se puede leer la página\n",
    "if (req.status_code != 200):\n",
    " raise Exception(\"No se puede hacer Web Scraping en\"+ URL)\n",
    "soup = BeautifulSoup(req.text, 'html.parser')\n",
    "\n",
    "tags = soup.findAll(\"h2\")\n",
    "\n",
    "for h2 in tags:\n",
    "    print(h2.text)\n",
    "    resultados.append(h2.text)\n",
    "\n",
    "req2 = requests.get(\"https://elpais.com/internacional\")\n",
    "# Si el estatus code no es 200 no se puede leer la página\n",
    "if (req.status_code != 200):\n",
    " raise Exception(\"No se puede hacer Web Scraping en\"+ URL)\n",
    "soup2 = BeautifulSoup(req2.text, 'html.parser')\n",
    "\n",
    "tags = soup2.findAll(\"h2\")\n",
    "\n",
    "for h2 in tags:\n",
    "    print(h2.text)\n",
    "    resultados.append(h2.text)\n",
    "\n",
    "req3 = requests.get(\"https://elpais.com/opinion\")\n",
    "# Si el estatus code no es 200 no se puede leer la página\n",
    "if (req.status_code != 200):\n",
    " raise Exception(\"No se puede hacer Web Scraping en\"+ URL)\n",
    "soup3 = BeautifulSoup(req3.text, 'html.parser')\n",
    "\n",
    "tags = soup3.findAll(\"h2\")\n",
    "\n",
    "for h2 in tags:\n",
    "    print(h2.text)\n",
    "    resultados.append(h2.text)\n",
    "\n",
    "req4 = requests.get(\"https://elpais.com/espana/\")\n",
    "# Si el estatus code no es 200 no se puede leer la página\n",
    "if (req.status_code != 200):\n",
    " raise Exception(\"No se puede hacer Web Scraping en\"+ URL)\n",
    "soup4 = BeautifulSoup(req4.text, 'html.parser')\n",
    "\n",
    "tags = soup4.findAll(\"h2\")\n",
    "\n",
    "for h2 in tags:\n",
    "    print(h2.text)\n",
    "    resultados.append(h2.text)\n",
    "\n",
    "req5 = requests.get(\"https://elpais.com/economia/\")\n",
    "# Si el estatus code no es 200 no se puede leer la página\n",
    "if (req.status_code != 200):\n",
    " raise Exception(\"No se puede hacer Web Scraping en\"+ URL)\n",
    "soup5 = BeautifulSoup(req5.text, 'html.parser')\n",
    "\n",
    "tags = soup5.findAll(\"h2\")\n",
    "\n",
    "for h2 in tags:\n",
    "    print(h2.text)\n",
    "    resultados.append(h2.text)\n",
    "\n",
    "req6 = requests.get(\"https://elpais.com/sociedad/\")\n",
    "# Si el estatus code no es 200 no se puede leer la página\n",
    "if (req.status_code != 200):\n",
    " raise Exception(\"No se puede hacer Web Scraping en\"+ URL)\n",
    "soup6 = BeautifulSoup(req6.text, 'html.parser')\n",
    "\n",
    "tags = soup6.findAll(\"h2\")\n",
    "\n",
    "for h2 in tags:\n",
    "    print(h2.text)\n",
    "    resultados.append(h2.text)\n",
    "\n",
    "req7 = requests.get(\"https://elpais.com/educacion/\")\n",
    "# Si el estatus code no es 200 no se puede leer la página\n",
    "if (req.status_code != 200):\n",
    " raise Exception(\"No se puede hacer Web Scraping en\"+ URL)\n",
    "soup7 = BeautifulSoup(req7.text, 'html.parser')\n",
    "\n",
    "tags = soup7.findAll(\"h2\")\n",
    "\n",
    "for h2 in tags:\n",
    "    print(h2.text)\n",
    "    resultados.append(h2.text)\n",
    "\n",
    "req8 = requests.get(\"https://elpais.com/clima-y-medio-ambiente/\")\n",
    "# Si el estatus code no es 200 no se puede leer la página\n",
    "if (req.status_code != 200):\n",
    " raise Exception(\"No se puede hacer Web Scraping en\"+ URL)\n",
    "soup8 = BeautifulSoup(req8.text, 'html.parser')\n",
    "\n",
    "tags = soup8.findAll(\"h2\")\n",
    "\n",
    "for h2 in tags:\n",
    "    print(h2.text)\n",
    "    resultados.append(h2.text)\n",
    "\n",
    "req9 = requests.get(\"https://elpais.com/ciencia/\")\n",
    "# Si el estatus code no es 200 no se puede leer la página\n",
    "if (req.status_code != 200):\n",
    " raise Exception(\"No se puede hacer Web Scraping en\"+ URL)\n",
    "soup9 = BeautifulSoup(req9.text, 'html.parser')\n",
    "\n",
    "tags = soup9.findAll(\"h2\")\n",
    "\n",
    "for h2 in tags:\n",
    "    print(h2.text)\n",
    "    resultados.append(h2.text)\n",
    "\n",
    "req10 = requests.get(\"https://elpais.com/cultura/\")\n",
    "# Si el estatus code no es 200 no se puede leer la página\n",
    "if (req.status_code != 200):\n",
    " raise Exception(\"No se puede hacer Web Scraping en\"+ URL)\n",
    "soup10 = BeautifulSoup(req10.text, 'html.parser')\n",
    "\n",
    "tags = soup10.findAll(\"h2\")\n",
    "\n",
    "for h2 in tags:\n",
    "    print(h2.text)\n",
    "    resultados.append(h2.text)\n",
    "\n",
    "req11 = requests.get(\"https://elpais.com/babelia/\")\n",
    "# Si el estatus code no es 200 no se puede leer la página\n",
    "if (req.status_code != 200):\n",
    " raise Exception(\"No se puede hacer Web Scraping en\"+ URL)\n",
    "soup11 = BeautifulSoup(req11.text, 'html.parser')\n",
    "\n",
    "tags = soup11.findAll(\"h2\")\n",
    "\n",
    "for h2 in tags:\n",
    "    print(h2.text)\n",
    "    resultados.append(h2.text)\n",
    "\n",
    "req12 = requests.get(\"https://elpais.com/deportes/\")\n",
    "# Si el estatus code no es 200 no se puede leer la página\n",
    "if (req.status_code != 200):\n",
    " raise Exception(\"No se puede hacer Web Scraping en\"+ URL)\n",
    "soup12 = BeautifulSoup(req12.text, 'html.parser')\n",
    "\n",
    "tags = soup12.findAll(\"h2\")\n",
    "\n",
    "for h2 in tags:\n",
    "    print(h2.text)\n",
    "    resultados.append(h2.text)\n",
    "\n",
    "req13 = requests.get(\"https://elpais.com/tecnologia/\")\n",
    "# Si el estatus code no es 200 no se puede leer la página\n",
    "if (req.status_code != 200):\n",
    " raise Exception(\"No se puede hacer Web Scraping en\"+ URL)\n",
    "soup13 = BeautifulSoup(req13.text, 'html.parser')\n",
    "\n",
    "tags = soup13.findAll(\"h2\")\n",
    "\n",
    "for h2 in tags:\n",
    "    print(h2.text)\n",
    "    resultados.append(h2.text)\n",
    "\n",
    "req14 = requests.get(\"https://elpais.com/tecnologia/\")\n",
    "# Si el estatus code no es 200 no se puede leer la página\n",
    "if (req.status_code != 200):\n",
    " raise Exception(\"No se puede hacer Web Scraping en\"+ URL)\n",
    "soup14 = BeautifulSoup(req14.text, 'html.parser')\n",
    "\n",
    "tags = soup14.findAll(\"h2\")\n",
    "\n",
    "for h2 in tags:\n",
    "    print(h2.text)\n",
    "    resultados.append(h2.text)\n",
    "\n",
    "req15 = requests.get(\"https://elpais.com/gente/\")\n",
    "# Si el estatus code no es 200 no se puede leer la página\n",
    "if (req.status_code != 200):\n",
    " raise Exception(\"No se puede hacer Web Scraping en\"+ URL)\n",
    "soup15 = BeautifulSoup(req15.text, 'html.parser')\n",
    "\n",
    "tags = soup15.findAll(\"h2\")\n",
    "\n",
    "for h2 in tags:\n",
    "    print(h2.text)\n",
    "    resultados.append(h2.text)\n",
    "\n",
    "req16 = requests.get(\"https://elpais.com/television/\")\n",
    "# Si el estatus code no es 200 no se puede leer la página\n",
    "if (req.status_code != 200):\n",
    " raise Exception(\"No se puede hacer Web Scraping en\"+ URL)\n",
    "soup16 = BeautifulSoup(req16.text, 'html.parser')\n",
    "\n",
    "tags = soup16.findAll(\"h2\")\n",
    "\n",
    "for h2 in tags:\n",
    "    print(h2.text)\n",
    "    resultados.append(h2.text)\n",
    "\n",
    "req17 = requests.get(\"https://elpais.com/eps/\")\n",
    "# Si el estatus code no es 200 no se puede leer la página\n",
    "if (req.status_code != 200):\n",
    " raise Exception(\"No se puede hacer Web Scraping en\"+ URL)\n",
    "soup17 = BeautifulSoup(req17.text, 'html.parser')\n",
    "\n",
    "tags = soup17.findAll(\"h2\")\n",
    "\n",
    "for h2 in tags:\n",
    "    print(h2.text)\n",
    "    resultados.append(h2.text)\n",
    "\n",
    "\n",
    "os.system(\"clear\")\n",
    "\n",
    "print(colored(\"A continuación se muestran los titulares de las páginas principales del diario El País que contienen las siguientes palabras:\", 'blue', attrs=['bold']))\n",
    "print(colored(\"Feminismo\", 'green', attrs=['bold']))\n",
    "\n",
    "str_match = [s for s in resultados if \"feminismo\" in s]\n",
    "print(\"\\n\".join(str_match))\n",
    "\n",
    "print(colored(\"Igualdad\", 'green', attrs=['bold']))\n",
    "\n",
    "str_match = [s for s in resultados if \"igualdad\" in s]\n",
    "print(\"\\n\".join(str_match))\n",
    "\n",
    "print(colored(\"Mujeres\", 'green', attrs=['bold']))\n",
    "\n",
    "str_match = [s for s in resultados if \"mujeres\" in s]\n",
    "print(\"\\n\".join(str_match))\n",
    "\n",
    "print(colored(\"Mujer\", 'green', attrs=['bold']))\n",
    "\n",
    "str_match = [s for s in resultados if \"mujer\" in s]\n",
    "print(\"\\n\".join(str_match))\n",
    "\n",
    "print(colored(\"Brecha salarial\", 'green', attrs=['bold']))\n",
    "\n",
    "str_match = [s for s in resultados if \"brecha salarial\" in s]\n",
    "print(\"\\n\".join(str_match))\n",
    "\n",
    "print(colored(\"Machismo\", 'green', attrs=['bold']))\n",
    "\n",
    "str_match = [s for s in resultados if \"machismo\" in s]\n",
    "print(\"\\n\".join(str_match))\n",
    "\n",
    "print(colored(\"Violencia\", 'green', attrs=['bold']))\n",
    "\n",
    "str_match = [s for s in resultados if \"violencia\" in s]\n",
    "print(\"\\n\".join(str_match))\n",
    "\n",
    "print(colored(\"Maltrato\", 'green', attrs=['bold']))\n",
    "\n",
    "str_match = [s for s in resultados if \"maltrato\" in s]\n",
    "print(\"\\n\".join(str_match))\n",
    "\n",
    "print(colored(\"Homicidio\", 'green', attrs=['bold']))\n",
    "\n",
    "str_match = [s for s in resultados if \"homicidio\" in s]\n",
    "print(\"\\n\".join(str_match))\n",
    "\n",
    "print(colored(\"Género\", 'green', attrs=['bold']))\n",
    "\n",
    "str_match = [s for s in resultados if \"género\" in s]\n",
    "print(\"\\n\".join(str_match))\n",
    "\n",
    "print(colored(\"Asesinato\", 'green', attrs=['bold']))\n",
    "\n",
    "str_match = [s for s in resultados if \"asesinato\" in s]\n",
    "print(\"\\n\".join(str_match))\n",
    "\n",
    "print(colored(\"Sexo\", 'green', attrs=['bold']))\n",
    "\n",
    "str_match = [s for s in resultados if \"sexo\" in s]\n",
    "print(\"\\n\".join(str_match))"
   ]
  }
 ],
 "metadata": {
  "kernelspec": {
   "display_name": "Python 3 (ipykernel)",
   "language": "python",
   "name": "python3"
  },
  "language_info": {
   "codemirror_mode": {
    "name": "ipython",
    "version": 3
   },
   "file_extension": ".py",
   "mimetype": "text/x-python",
   "name": "python",
   "nbconvert_exporter": "python",
   "pygments_lexer": "ipython3",
   "version": "3.9.12"
  }
 },
 "nbformat": 4,
 "nbformat_minor": 5
}
